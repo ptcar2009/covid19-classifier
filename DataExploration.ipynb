{
 "cells": [
  {
   "cell_type": "markdown",
   "metadata": {},
   "source": [
    "# SRAG (SARS) data exploration from Brazil's OpenDataSUS\n",
    "\n",
    "This notebook is meant to explore and understand the data contained in the SRAG data from Brazil's OpenDataSUS data. This data is available at [the OpenDataSUS website](https://opendatasus.saude.gov.br/dataset/bd-srag-2020).\n",
    "\n",
    "The data is divided into the 2020 data and the earlier data. The first step is to download the data and consume it into `pandas` dataframes.\n",
    "\n",
    "To download the data, we use the bash script `GET_DATA.sh`, which contains the following code, that downloads and checks the data for the project:"
   ]
  },
  {
   "cell_type": "code",
   "execution_count": 1,
   "metadata": {
    "collapsed": true,
    "jupyter": {
     "outputs_hidden": true
    }
   },
   "outputs": [
    {
     "name": "stdout",
     "output_type": "stream",
     "text": [
      "\u001b[37m#!/bin/bash\u001b[39;49;00m\n",
      "\n",
      "\u001b[31mBLUE\u001b[39;49;00m=\u001b[33m\"\\e[1;34m\"\u001b[39;49;00m\n",
      "\u001b[31mWHITE\u001b[39;49;00m=\u001b[33m\"\\e[1;37m\"\u001b[39;49;00m\n",
      "\u001b[31mRED\u001b[39;49;00m=\u001b[33m\"\\e[1;31m\"\u001b[39;49;00m\n",
      "\u001b[31mGREEN\u001b[39;49;00m=\u001b[33m\"\\e[1;32m\"\u001b[39;49;00m\n",
      "\n",
      "\u001b[31mMESSAGE\u001b[39;49;00m=\u001b[33m\"\u001b[39;49;00m\u001b[33m${\u001b[39;49;00m\u001b[31mBLUE\u001b[39;49;00m\u001b[33m}\u001b[39;49;00m\u001b[33m -> \u001b[39;49;00m\u001b[33m\"\u001b[39;49;00m\n",
      "\u001b[31mERROR\u001b[39;49;00m=\u001b[33m\"\u001b[39;49;00m\u001b[33m${\u001b[39;49;00m\u001b[31mRED\u001b[39;49;00m\u001b[33m}\u001b[39;49;00m\u001b[33mERROR: \u001b[39;49;00m\u001b[33m${\u001b[39;49;00m\u001b[31mWHITE\u001b[39;49;00m\u001b[33m}\u001b[39;49;00m\u001b[33m\"\u001b[39;49;00m\n",
      "\u001b[31mSUCCESS\u001b[39;49;00m=\u001b[33m\"\u001b[39;49;00m\u001b[33m${\u001b[39;49;00m\u001b[31mGREEN\u001b[39;49;00m\u001b[33m}\u001b[39;49;00m\u001b[33m\"\u001b[39;49;00m\n",
      "\n",
      "\u001b[37m# This scripts gets all the data from the SRAG databases from Brazil's OpenDataSUS. The script verifies if the files exist and verifies the SHA256 sums.\u001b[39;49;00m\n",
      "\u001b[36mecho\u001b[39;49;00m\n",
      "\u001b[36mecho\u001b[39;49;00m -e \u001b[33m\"\u001b[39;49;00m\u001b[33m${\u001b[39;49;00m\u001b[31mMESSAGE\u001b[39;49;00m\u001b[33m}\u001b[39;49;00m\u001b[33mCreating data directory...\u001b[39;49;00m\u001b[33m\"\u001b[39;49;00m\n",
      "\u001b[36mecho\u001b[39;49;00m \n",
      "mkdir -p data\n",
      "\n",
      "\u001b[31msums\u001b[39;49;00m=(\u001b[33m`\u001b[39;49;00mcat sums | awk \u001b[33m'{print $1}'\u001b[39;49;00m\u001b[33m`\u001b[39;49;00m)\n",
      "\n",
      "\u001b[37m# The 2020 data constantly moves between adresses, since it's updated every few days, containing the new data. To get the data\u001b[39;49;00m\n",
      "\u001b[37m# we use some grep magic\u001b[39;49;00m\n",
      "\u001b[31mlink2020\u001b[39;49;00m=\u001b[33m`\u001b[39;49;00mcurl -kL https://opendatasus.saude.gov.br/dataset/bd-srag-2020 | grep -o \u001b[33m\"https:.*\\.csv\"\u001b[39;49;00m\u001b[33m`\u001b[39;49;00m\n",
      "\n",
      "\u001b[31mlinks\u001b[39;49;00m=(\u001b[33m\"https://opendatasus.saude.gov.br/dataset/18254c56-0859-4073-a6ea-977c8b85bd28/resource/861e8067-a23d-49f6-93a7-9b83c2f802ac/download/influd14_limpo-final.csv\"\u001b[39;49;00m \u001b[33m\"https://opendatasus.saude.gov.br/dataset/18254c56-0859-4073-a6ea-977c8b85bd28/resource/e5f0102f-a2e5-41d9-ac05-88e438c578ce/download/influd15_limpo-final.csv\"\u001b[39;49;00m \u001b[33m\"https://opendatasus.saude.gov.br/dataset/18254c56-0859-4073-a6ea-977c8b85bd28/resource/4b45e6f9-556e-49af-b806-be9b79ca2730/download/influd16_limpo-final.csv\"\u001b[39;49;00m \u001b[33m\"https://opendatasus.saude.gov.br/dataset/18254c56-0859-4073-a6ea-977c8b85bd28/resource/7b586a1c-6a9d-455c-8503-726bc8157344/download/influd17_limpo-final.csv\"\u001b[39;49;00m \u001b[33m\"https://opendatasus.saude.gov.br/dataset/18254c56-0859-4073-a6ea-977c8b85bd28/resource/cce2d3de-4fd4-4e40-937d-140abf032c8c/download/influd18_limpo-final.csv\"\u001b[39;49;00m \u001b[33m\"https://opendatasus.saude.gov.br/dataset/b80b639a-1f0a-4712-a997-0b8a65662a06/resource/fe995608-bf72-42c4-bb20-3ad76766745f/download/influd19_limpo-27.04.2020-final.csv\"\u001b[39;49;00m)\n",
      "\n",
      "\u001b[31mYEAR\u001b[39;49;00m=(\u001b[33m\"201\"\u001b[39;49;00m{\u001b[34m4\u001b[39;49;00m..9})\n",
      "\n",
      "\u001b[34mfor\u001b[39;49;00m i in \u001b[33m\"\u001b[39;49;00m\u001b[33m${\u001b[39;49;00m!links[@]\u001b[33m}\u001b[39;49;00m\u001b[33m\"\u001b[39;49;00m; \u001b[34mdo\u001b[39;49;00m\n",
      "    \u001b[36mecho\u001b[39;49;00m -e \u001b[33m\"\u001b[39;49;00m\u001b[33m${\u001b[39;49;00m\u001b[31mMESSAGE\u001b[39;49;00m\u001b[33m}\u001b[39;49;00m\u001b[33mChecking if already exists...\u001b[39;49;00m\u001b[33m\"\u001b[39;49;00m\n",
      "    \u001b[34mif\u001b[39;49;00m \u001b[36mtest\u001b[39;49;00m -f \u001b[33m\"\u001b[39;49;00m\u001b[33mdata/\u001b[39;49;00m\u001b[33m${\u001b[39;49;00m\u001b[31mYEAR\u001b[39;49;00m[\u001b[31m$i\u001b[39;49;00m]\u001b[33m}\u001b[39;49;00m\u001b[33m.csv\u001b[39;49;00m\u001b[33m\"\u001b[39;49;00m; \u001b[34mthen\u001b[39;49;00m\n",
      "        \u001b[31mcurrent_sum\u001b[39;49;00m=\u001b[33m`\u001b[39;49;00msha256sum \u001b[33m\"\u001b[39;49;00m\u001b[33mdata/\u001b[39;49;00m\u001b[33m${\u001b[39;49;00m\u001b[31mYEAR\u001b[39;49;00m[\u001b[31m$i\u001b[39;49;00m]\u001b[33m}\u001b[39;49;00m\u001b[33m.csv\u001b[39;49;00m\u001b[33m\"\u001b[39;49;00m | awk \u001b[33m'{print $1}'\u001b[39;49;00m\u001b[33m`\u001b[39;49;00m\n",
      "        \u001b[34mif\u001b[39;49;00m [ \u001b[31m$current_sum\u001b[39;49;00m == \u001b[33m\"\u001b[39;49;00m\u001b[33m${\u001b[39;49;00m\u001b[31msums\u001b[39;49;00m[\u001b[31m$i\u001b[39;49;00m]\u001b[33m}\u001b[39;49;00m\u001b[33m\"\u001b[39;49;00m ]; \u001b[34mthen\u001b[39;49;00m\n",
      "            \u001b[36mecho\u001b[39;49;00m -e \u001b[33m\"\u001b[39;49;00m\u001b[33m${\u001b[39;49;00m\u001b[31mSUCCESS\u001b[39;49;00m\u001b[33m}\u001b[39;49;00m\u001b[33mdata/\u001b[39;49;00m\u001b[33m${\u001b[39;49;00m\u001b[31mYEAR\u001b[39;49;00m[\u001b[31m$i\u001b[39;49;00m]\u001b[33m}\u001b[39;49;00m\u001b[33m.csv already exists!\u001b[39;49;00m\u001b[33m\"\u001b[39;49;00m\n",
      "            \u001b[34mcontinue\u001b[39;49;00m\n",
      "        \u001b[34mfi\u001b[39;49;00m\n",
      "    \u001b[34mfi\u001b[39;49;00m\n",
      "    \u001b[36mecho\u001b[39;49;00m -e \u001b[33m\"\u001b[39;49;00m\u001b[33m${\u001b[39;49;00m\u001b[31mMESSAGE\u001b[39;49;00m\u001b[33m}\u001b[39;49;00m\u001b[33mDownloading the \u001b[39;49;00m\u001b[33m${\u001b[39;49;00m\u001b[31mWHITE\u001b[39;49;00m\u001b[33m}\u001b[39;49;00m\u001b[33m${\u001b[39;49;00m\u001b[31mYEAR\u001b[39;49;00m[\u001b[31m$i\u001b[39;49;00m]\u001b[33m}\u001b[39;49;00m\u001b[33m \u001b[39;49;00m\u001b[33m${\u001b[39;49;00m\u001b[31mBLUE\u001b[39;49;00m\u001b[33m}\u001b[39;49;00m\u001b[33mdata...\u001b[39;49;00m\u001b[33m${\u001b[39;49;00m\u001b[31mWHITE\u001b[39;49;00m\u001b[33m}\u001b[39;49;00m\u001b[33m\"\u001b[39;49;00m\n",
      "    \n",
      "    curl -Lko \u001b[33m\"\u001b[39;49;00m\u001b[33mdata/\u001b[39;49;00m\u001b[33m${\u001b[39;49;00m\u001b[31mYEAR\u001b[39;49;00m[\u001b[31m$i\u001b[39;49;00m]\u001b[33m}\u001b[39;49;00m\u001b[33m.csv\u001b[39;49;00m\u001b[33m\"\u001b[39;49;00m \u001b[33m\"\u001b[39;49;00m\u001b[33m${\u001b[39;49;00m\u001b[31mlinks\u001b[39;49;00m[\u001b[31m$i\u001b[39;49;00m]\u001b[33m}\u001b[39;49;00m\u001b[33m\"\u001b[39;49;00m\n",
      "    \n",
      "    \u001b[36mecho\u001b[39;49;00m\n",
      "    \u001b[36mecho\u001b[39;49;00m -e \u001b[33m\"\u001b[39;49;00m\u001b[33m${\u001b[39;49;00m\u001b[31mMESSAGE\u001b[39;49;00m\u001b[33m}\u001b[39;49;00m\u001b[33mChecking sha256 sum for \u001b[39;49;00m\u001b[33m${\u001b[39;49;00m\u001b[31mWHITE\u001b[39;49;00m\u001b[33m}\u001b[39;49;00m\u001b[33m${\u001b[39;49;00m\u001b[31mYEAR\u001b[39;49;00m[\u001b[31m$i\u001b[39;49;00m]\u001b[33m}\u001b[39;49;00m\u001b[33m \u001b[39;49;00m\u001b[33m${\u001b[39;49;00m\u001b[31mBLUE\u001b[39;49;00m\u001b[33m}\u001b[39;49;00m\u001b[33mfile...\u001b[39;49;00m\u001b[33m\"\u001b[39;49;00m\n",
      "    \n",
      "    \u001b[31mcurrent_sum\u001b[39;49;00m=\u001b[33m`\u001b[39;49;00msha256sum \u001b[33m\"\u001b[39;49;00m\u001b[33mdata/\u001b[39;49;00m\u001b[33m${\u001b[39;49;00m\u001b[31mYEAR\u001b[39;49;00m[\u001b[31m$i\u001b[39;49;00m]\u001b[33m}\u001b[39;49;00m\u001b[33m.csv\u001b[39;49;00m\u001b[33m\"\u001b[39;49;00m | awk \u001b[33m'{print $1}'\u001b[39;49;00m\u001b[33m`\u001b[39;49;00m\n",
      "    \n",
      "    \u001b[34mif\u001b[39;49;00m [ \u001b[31m$current_sum\u001b[39;49;00m != \u001b[33m\"\u001b[39;49;00m\u001b[33m${\u001b[39;49;00m\u001b[31msums\u001b[39;49;00m[\u001b[31m$i\u001b[39;49;00m]\u001b[33m}\u001b[39;49;00m\u001b[33m\"\u001b[39;49;00m ]; \u001b[34mthen\u001b[39;49;00m\n",
      "        \u001b[36mecho\u001b[39;49;00m -e \u001b[33m\"\u001b[39;49;00m\u001b[33m${\u001b[39;49;00m\u001b[31mERROR\u001b[39;49;00m\u001b[33m}\u001b[39;49;00m\u001b[33mChecksum failed! Try downloading again...\u001b[39;49;00m\u001b[33m\"\u001b[39;49;00m\n",
      "        \u001b[36mexit\u001b[39;49;00m \u001b[34m1\u001b[39;49;00m\n",
      "    \u001b[34melse\u001b[39;49;00m\n",
      "        \u001b[36mecho\u001b[39;49;00m\n",
      "        \u001b[36mecho\u001b[39;49;00m -e \u001b[33m\"\u001b[39;49;00m\u001b[33m${\u001b[39;49;00m\u001b[31mSUCCESS\u001b[39;49;00m\u001b[33m}\u001b[39;49;00m\u001b[33mSuccessfully downloaded files for year \u001b[39;49;00m\u001b[33m${\u001b[39;49;00m\u001b[31mWHITE\u001b[39;49;00m\u001b[33m}\u001b[39;49;00m\u001b[33m${\u001b[39;49;00m\u001b[31mYEAR\u001b[39;49;00m[\u001b[31m$i\u001b[39;49;00m]\u001b[33m}\u001b[39;49;00m\u001b[33m${\u001b[39;49;00m\u001b[31mSUCCESS\u001b[39;49;00m\u001b[33m}\u001b[39;49;00m\u001b[33m!\u001b[39;49;00m\u001b[33m\"\u001b[39;49;00m\n",
      "        \u001b[36mecho\u001b[39;49;00m \n",
      "    \u001b[34mfi\u001b[39;49;00m\n",
      "\u001b[34mdone\u001b[39;49;00m\n",
      "\n",
      "\u001b[36mecho\u001b[39;49;00m -e \u001b[33m\"\u001b[39;49;00m\u001b[33m${\u001b[39;49;00m\u001b[31mMESSAGE\u001b[39;49;00m\u001b[33m}\u001b[39;49;00m\u001b[33mDownloading the \u001b[39;49;00m\u001b[33m${\u001b[39;49;00m\u001b[31mWHITE\u001b[39;49;00m\u001b[33m}\u001b[39;49;00m\u001b[33m2020 \u001b[39;49;00m\u001b[33m${\u001b[39;49;00m\u001b[31mBLUE\u001b[39;49;00m\u001b[33m}\u001b[39;49;00m\u001b[33mdata...\u001b[39;49;00m\u001b[33m\"\u001b[39;49;00m\n",
      "curl -Lo data/2020.csv \u001b[31m$link2020\u001b[39;49;00m\n",
      "\n",
      "\u001b[36mecho\u001b[39;49;00m -e \u001b[33m\"\u001b[39;49;00m\u001b[33m${\u001b[39;49;00m\u001b[31mSUCCESS\u001b[39;49;00m\u001b[33m}\u001b[39;49;00m\u001b[33mSuccessfully downloaded all files!\u001b[39;49;00m\u001b[33m\"\u001b[39;49;00m\n"
     ]
    }
   ],
   "source": [
    "!pygmentize GET_DATA.sh"
   ]
  },
  {
   "cell_type": "code",
   "execution_count": 57,
   "metadata": {
    "collapsed": true,
    "jupyter": {
     "outputs_hidden": true
    }
   },
   "outputs": [
    {
     "name": "stdout",
     "output_type": "stream",
     "text": [
      "\n",
      "\u001b[1;34m -> Creating data directory...\n",
      "\n",
      "  % Total    % Received % Xferd  Average Speed   Time    Time     Time  Current\n",
      "                                 Dload  Upload   Total   Spent    Left  Speed\n",
      "100 23037  100 23037    0     0  29686      0 --:--:-- --:--:-- --:--:-- 29648\n",
      "\u001b[1;34m -> Checking if already exists...\n",
      "\u001b[1;32mdata/2014.csv already exists!\n",
      "\u001b[1;34m -> Checking if already exists...\n",
      "\u001b[1;32mdata/2015.csv already exists!\n",
      "\u001b[1;34m -> Checking if already exists...\n",
      "\u001b[1;32mdata/2016.csv already exists!\n",
      "\u001b[1;34m -> Checking if already exists...\n",
      "\u001b[1;32mdata/2017.csv already exists!\n",
      "\u001b[1;34m -> Checking if already exists...\n",
      "\u001b[1;32mdata/2018.csv already exists!\n",
      "\u001b[1;34m -> Checking if already exists...\n",
      "\u001b[1;32mdata/2019.csv already exists!\n",
      "\u001b[1;34m -> Downloading the \u001b[1;37m2020 \u001b[1;34mdata...\n",
      "  % Total    % Received % Xferd  Average Speed   Time    Time     Time  Current\n",
      "                                 Dload  Upload   Total   Spent    Left  Speed\n",
      "100  254M  100  254M    0     0  18.9M      0  0:00:13  0:00:13 --:--:-- 15.6M\n",
      "\u001b[1;32mSuccessfully downloaded all files!\n"
     ]
    }
   ],
   "source": [
    "!bash GET_DATA.sh"
   ]
  },
  {
   "cell_type": "markdown",
   "metadata": {},
   "source": [
    "After downloading the data, the next step is to consume it into `pandas` dataframes. The basic structure of the data is described in the dictionary files, which can be found in [this directory](./dictionary_files).\n",
    "\n",
    "Since the idea is to use the data from before 2020 as a control data, not containing any cases of covid-19, the data is imported into two dataframes, the `df_2020` dataframe and the `df_control` dataframe."
   ]
  },
  {
   "cell_type": "code",
   "execution_count": 1,
   "metadata": {},
   "outputs": [
    {
     "name": "stdout",
     "output_type": "stream",
     "text": [
      "Requirement already satisfied: chart_studio in /home/ec2-user/anaconda3/envs/python3/lib/python3.6/site-packages (1.1.0)\n",
      "Requirement already satisfied: six in /home/ec2-user/anaconda3/envs/python3/lib/python3.6/site-packages (from chart_studio) (1.14.0)\n",
      "Requirement already satisfied: plotly in /home/ec2-user/anaconda3/envs/python3/lib/python3.6/site-packages (from chart_studio) (4.8.1)\n",
      "Requirement already satisfied: requests in /home/ec2-user/anaconda3/envs/python3/lib/python3.6/site-packages (from chart_studio) (2.23.0)\n",
      "Requirement already satisfied: retrying>=1.3.3 in /home/ec2-user/anaconda3/envs/python3/lib/python3.6/site-packages (from chart_studio) (1.3.3)\n",
      "Requirement already satisfied: urllib3!=1.25.0,!=1.25.1,<1.26,>=1.21.1 in /home/ec2-user/anaconda3/envs/python3/lib/python3.6/site-packages (from requests->chart_studio) (1.25.8)\n",
      "Requirement already satisfied: certifi>=2017.4.17 in /home/ec2-user/anaconda3/envs/python3/lib/python3.6/site-packages (from requests->chart_studio) (2020.4.5.2)\n",
      "Requirement already satisfied: idna<3,>=2.5 in /home/ec2-user/anaconda3/envs/python3/lib/python3.6/site-packages (from requests->chart_studio) (2.9)\n",
      "Requirement already satisfied: chardet<4,>=3.0.2 in /home/ec2-user/anaconda3/envs/python3/lib/python3.6/site-packages (from requests->chart_studio) (3.0.4)\n",
      "\u001b[33mWARNING: You are using pip version 20.0.2; however, version 20.2.1 is available.\n",
      "You should consider upgrading via the '/home/ec2-user/anaconda3/envs/python3/bin/python -m pip install --upgrade pip' command.\u001b[0m\n"
     ]
    }
   ],
   "source": [
    "import pandas as pd\n",
    "import seaborn as sns\n",
    "import matplotlib.pyplot as plt\n",
    "import numpy as np\n",
    "import plotly.graph_objects as go\n",
    "%matplotlib inline\n",
    "!pip install chart_studio\n",
    "import chart_studio\n",
    "API_KEY='6IKNK0emp90jIMnM4z1I'\n",
    "chart_studio.tools.set_credentials_file(username='ptecodev', api_key=API_KEY)"
   ]
  },
  {
   "cell_type": "code",
   "execution_count": 44,
   "metadata": {},
   "outputs": [],
   "source": [
    "df_2020 = None\n",
    "df_2020 = pd.read_csv('data/2020.csv', encoding='latin2', sep=';', low_memory=False)"
   ]
  },
  {
   "cell_type": "code",
   "execution_count": 56,
   "metadata": {},
   "outputs": [],
   "source": [
    "# reading all dataframes\n",
    "dfs = []\n",
    "for year in range(2014, 2020, 1):\n",
    "    dfs += [pd.read_csv('data/{}.csv'.format(year), encoding='latin2', sep=';', low_memory=False)]\n",
    "\n",
    "# and concatenating them together\n",
    "df_control = pd.concat(dfs, sort=True, ignore_index=True, join='inner')\n",
    "dfs += [df_2020]"
   ]
  },
  {
   "cell_type": "code",
   "execution_count": 5,
   "metadata": {
    "collapsed": true,
    "jupyter": {
     "outputs_hidden": true
    }
   },
   "outputs": [
    {
     "data": {
      "text/plain": [
       "<matplotlib.axes._subplots.AxesSubplot at 0x7fee02a97cf8>"
      ]
     },
     "execution_count": 5,
     "metadata": {},
     "output_type": "execute_result"
    },
    {
     "data": {
      "image/png": "[encoded data removed]",
      "text/plain": [
       "<Figure size 792x648 with 2 Axes>"
      ]
     },
     "metadata": {
      "needs_background": "light"
     },
     "output_type": "display_data"
    }
   ],
   "source": [
    "corr = df_2020.corr()\n",
    "\n",
    "# Generate a mask for the upper triangle\n",
    "mask = np.triu(np.ones_like(corr, dtype=np.bool))\n",
    "\n",
    "# Set up the matplotlib figure\n",
    "f, ax = plt.subplots(figsize=(11, 9))\n",
    "\n",
    "# Generate a custom diverging colormap\n",
    "cmap = sns.diverging_palette(220, 10, as_cmap=True)\n",
    "\n",
    "# Draw the heatmap with the mask and correct aspect ratio\n",
    "sns.heatmap(corr, mask=mask, cmap=cmap, vmax=.3, center=0,\n",
    "            square=True, linewidths=.5, cbar_kws={\"shrink\": .5})"
   ]
  },
  {
   "cell_type": "code",
   "execution_count": 54,
   "metadata": {},
   "outputs": [
    {
     "data": {
      "text/plain": [
       "'https://plotly.com/~ptecodev/43/'"
      ]
     },
     "execution_count": 54,
     "metadata": {},
     "output_type": "execute_result"
    }
   ],
   "source": [
    "py.plot(px.bar(df_2020[df_2020['CLASSI_FIN'] == 5]['SG_UF_NOT'].value_counts()))"
   ]
  },
  {
   "cell_type": "markdown",
   "metadata": {},
   "source": [
    "The 2020 dataframe does not contain all the data described in it's dictionary files, and the control dataframe contains many more columns than the 2020 one.  \n",
    "To adress that issue, we convert the control dataframe as to contain only the intersection between the columns of the two dataframes."
   ]
  },
  {
   "cell_type": "code",
   "execution_count": 4,
   "metadata": {},
   "outputs": [],
   "source": [
    "df_control=df_control[df_control.columns.intersection(df_2020.columns)]\n",
    "df_2020=df_2020[df_2020.columns.intersection(df_control.columns)]"
   ]
  },
  {
   "cell_type": "code",
   "execution_count": 11,
   "metadata": {
    "collapsed": true,
    "jupyter": {
     "outputs_hidden": true
    }
   },
   "outputs": [
    {
     "name": "stdout",
     "output_type": "stream",
     "text": [
      "<class 'pandas.core.frame.DataFrame'>\n",
      "RangeIndex: 216190 entries, 0 to 216189\n",
      "Data columns (total 58 columns):\n",
      " #   Column      Non-Null Count   Dtype  \n",
      "---  ------      --------------   -----  \n",
      " 0   AMOSTRA     214945 non-null  float64\n",
      " 1   ANTIVIRAL   212857 non-null  float64\n",
      " 2   CARDIOPATI  181335 non-null  float64\n",
      " 3   CLASSI_FIN  212088 non-null  float64\n",
      " 4   CLASSI_OUT  1670 non-null    object \n",
      " 5   CO_MU_INTE  212174 non-null  float64\n",
      " 6   CRITERIO    209678 non-null  float64\n",
      " 7   CS_ESCOL_N  204830 non-null  float64\n",
      " 8   CS_GESTANT  216179 non-null  float64\n",
      " 9   CS_RACA     208797 non-null  float64\n",
      " 10  CS_SEXO     216190 non-null  object \n",
      " 11  DESC_RESP   212352 non-null  float64\n",
      " 12  DIARREIA    47247 non-null   float64\n",
      " 13  DISPNEIA    214146 non-null  float64\n",
      " 14  DT_ANTIVIR  133422 non-null  object \n",
      " 15  DT_COLETA   187112 non-null  object \n",
      " 16  DT_DIGITA   199419 non-null  object \n",
      " 17  DT_ENCERRA  211287 non-null  object \n",
      " 18  DT_ENTUTI   74328 non-null   object \n",
      " 19  DT_INTERNA  211206 non-null  object \n",
      " 20  DT_NASC     215515 non-null  object \n",
      " 21  DT_NOTIFIC  216190 non-null  object \n",
      " 22  DT_PCR      38672 non-null   object \n",
      " 23  DT_RAIOX    170442 non-null  object \n",
      " 24  DT_SAIDUTI  52858 non-null   object \n",
      " 25  DT_SIN_PRI  216190 non-null  object \n",
      " 26  EVOLUCAO    202150 non-null  float64\n",
      " 27  FEBRE       214858 non-null  float64\n",
      " 28  GARGANTA    210591 non-null  float64\n",
      " 29  HEPATICA    180241 non-null  float64\n",
      " 30  HOSPITAL    215178 non-null  float64\n",
      " 31  ID_MN_RESI  216153 non-null  object \n",
      " 32  ID_MUNICIP  216190 non-null  object \n",
      " 33  IMUNODEPRE  180728 non-null  float64\n",
      " 34  MORB_DESC   36807 non-null   object \n",
      " 35  NEUROLOGIC  180699 non-null  float64\n",
      " 36  NU_IDADE_N  216190 non-null  int64  \n",
      " 37  OBESIDADE   179161 non-null  float64\n",
      " 38  OBES_IMC    2631 non-null    object \n",
      " 39  OUTRO_DES   52129 non-null   object \n",
      " 40  OUTRO_SIN   199058 non-null  float64\n",
      " 41  OUT_AMOST   4382 non-null    object \n",
      " 42  OUT_ANTIV   618 non-null     object \n",
      " 43  OUT_MORBI   177248 non-null  float64\n",
      " 44  PNEUMOPATI  181208 non-null  float64\n",
      " 45  PUERPERA    182834 non-null  float64\n",
      " 46  RAIOX_OUT   23412 non-null   object \n",
      " 47  RAIOX_RES   206310 non-null  float64\n",
      " 48  RENAL       180499 non-null  float64\n",
      " 49  SATURACAO   210584 non-null  float64\n",
      " 50  SEM_NOT     216190 non-null  int64  \n",
      " 51  SG_UF       216153 non-null  object \n",
      " 52  SG_UF_NOT   216190 non-null  object \n",
      " 53  SIND_DOWN   180378 non-null  float64\n",
      " 54  SUPORT_VEN  210970 non-null  float64\n",
      " 55  TOSSE       215073 non-null  float64\n",
      " 56  UTI         210514 non-null  float64\n",
      " 57  VACINA      203571 non-null  float64\n",
      "dtypes: float64(32), int64(2), object(24)\n",
      "memory usage: 95.7+ MB\n"
     ]
    }
   ],
   "source": [
    "df_control.info()"
   ]
  },
  {
   "cell_type": "code",
   "execution_count": 14,
   "metadata": {
    "collapsed": true,
    "jupyter": {
     "outputs_hidden": true
    }
   },
   "outputs": [
    {
     "name": "stdout",
     "output_type": "stream",
     "text": [
      "<class 'pandas.core.frame.DataFrame'>\n",
      "RangeIndex: 522262 entries, 0 to 522261\n",
      "Data columns (total 58 columns):\n",
      " #   Column      Non-Null Count   Dtype  \n",
      "---  ------      --------------   -----  \n",
      " 0   DT_NOTIFIC  522262 non-null  object \n",
      " 1   SEM_NOT     522262 non-null  int64  \n",
      " 2   DT_SIN_PRI  522262 non-null  object \n",
      " 3   SG_UF_NOT   522262 non-null  object \n",
      " 4   ID_MUNICIP  522262 non-null  object \n",
      " 5   CS_SEXO     522262 non-null  object \n",
      " 6   DT_NASC     521074 non-null  object \n",
      " 7   NU_IDADE_N  522262 non-null  int64  \n",
      " 8   CS_GESTANT  522262 non-null  int64  \n",
      " 9   CS_RACA     437445 non-null  float64\n",
      " 10  CS_ESCOL_N  365514 non-null  float64\n",
      " 11  SG_UF       522194 non-null  object \n",
      " 12  ID_MN_RESI  522194 non-null  object \n",
      " 13  FEBRE       467370 non-null  float64\n",
      " 14  TOSSE       472659 non-null  float64\n",
      " 15  GARGANTA    402890 non-null  float64\n",
      " 16  DISPNEIA    467125 non-null  float64\n",
      " 17  DESC_RESP   440634 non-null  float64\n",
      " 18  SATURACAO   439404 non-null  float64\n",
      " 19  DIARREIA    393383 non-null  float64\n",
      " 20  OUTRO_SIN   392024 non-null  float64\n",
      " 21  OUTRO_DES   164696 non-null  object \n",
      " 22  PUERPERA    198933 non-null  float64\n",
      " 23  CARDIOPATI  258873 non-null  float64\n",
      " 24  SIND_DOWN   199870 non-null  float64\n",
      " 25  HEPATICA    200070 non-null  float64\n",
      " 26  NEUROLOGIC  206799 non-null  float64\n",
      " 27  PNEUMOPATI  206578 non-null  float64\n",
      " 28  IMUNODEPRE  203508 non-null  float64\n",
      " 29  RENAL       204872 non-null  float64\n",
      " 30  OBESIDADE   202901 non-null  float64\n",
      " 31  OBES_IMC    15053 non-null   object \n",
      " 32  OUT_MORBI   236482 non-null  float64\n",
      " 33  MORB_DESC   131077 non-null  object \n",
      " 34  VACINA      416513 non-null  float64\n",
      " 35  ANTIVIRAL   457018 non-null  float64\n",
      " 36  OUT_ANTIV   3940 non-null    object \n",
      " 37  DT_ANTIVIR  118660 non-null  object \n",
      " 38  HOSPITAL    504823 non-null  float64\n",
      " 39  DT_INTERNA  0 non-null       float64\n",
      " 40  CO_MU_INTE  474627 non-null  float64\n",
      " 41  UTI         433513 non-null  float64\n",
      " 42  DT_ENTUTI   135857 non-null  object \n",
      " 43  DT_SAIDUTI  55547 non-null   object \n",
      " 44  SUPORT_VEN  446706 non-null  float64\n",
      " 45  RAIOX_RES   364212 non-null  float64\n",
      " 46  RAIOX_OUT   68903 non-null   object \n",
      " 47  DT_RAIOX    202162 non-null  object \n",
      " 48  AMOSTRA     503402 non-null  float64\n",
      " 49  DT_COLETA   481465 non-null  object \n",
      " 50  OUT_AMOST   52002 non-null   object \n",
      " 51  DT_PCR      374591 non-null  object \n",
      " 52  CLASSI_FIN  431576 non-null  float64\n",
      " 53  CLASSI_OUT  663 non-null     object \n",
      " 54  CRITERIO    412460 non-null  float64\n",
      " 55  EVOLUCAO    372597 non-null  float64\n",
      " 56  DT_ENCERRA  369220 non-null  object \n",
      " 57  DT_DIGITA   0 non-null       float64\n",
      "dtypes: float64(33), int64(3), object(22)\n",
      "memory usage: 231.1+ MB\n"
     ]
    }
   ],
   "source": [
    "df_2020.info()"
   ]
  },
  {
   "cell_type": "markdown",
   "metadata": {},
   "source": [
    "With this change, we freed up over 100MB of memory, and also preventend some processing errors in the future. As it is clear, also, the column data types are unevenly distributed in the different DFs, therefore some conversion from categorical into numeric data is necessary.\n",
    "\n",
    "After these changes, the first analysis is in the 'CLASSI_FIN' column of the dataframe, which contains the final diagnosis of the reported case. This diagnosis is divided into 5 categories:\n",
    "1. Influenza caused SARS\n",
    "2. Other virus caused SARS\n",
    "3. Other causes SARS\n",
    "4. Unidientified causes SARS\n",
    "5. COVID-19 caused SARS"
   ]
  },
  {
   "cell_type": "code",
   "execution_count": 5,
   "metadata": {},
   "outputs": [],
   "source": [
    "\n",
    "classes = ['Influenza', 'Other Viruses', 'Other Causes', 'Unknown Cause', 'COVID-19']"
   ]
  },
  {
   "cell_type": "code",
   "execution_count": 6,
   "metadata": {},
   "outputs": [],
   "source": [
    "value_counts_per_year = list(map(lambda x: x['CLASSI_FIN'].value_counts().sort_index().values, dfs))"
   ]
  },
  {
   "cell_type": "code",
   "execution_count": 7,
   "metadata": {},
   "outputs": [],
   "source": [
    "bar_plots = list(\n",
    "    map(\n",
    "        lambda x: go.Bar(\n",
    "            name='{}'.format(2014 + x[0]), \n",
    "            x=classes,\n",
    "            y=list(x[1])\n",
    "        ), \n",
    "        enumerate(value_counts_per_year)\n",
    "    )\n",
    ")\n",
    "fig_per_year=go.Figure(bar_plots)"
   ]
  },
  {
   "cell_type": "code",
   "execution_count": 21,
   "metadata": {},
   "outputs": [
    {
     "data": {
      "text/plain": [
       "'https://plotly.com/~ptecodev/1/'"
      ]
     },
     "execution_count": 21,
     "metadata": {},
     "output_type": "execute_result"
    }
   ],
   "source": [
    "import chart_studio.plotly as py\n",
    "py.plot(go.Figure(fig_per_year), filename = 'gdp_per_cap', auto_open=True)"
   ]
  },
  {
   "cell_type": "code",
   "execution_count": 70,
   "metadata": {},
   "outputs": [],
   "source": [
    "figs_per_year = bar_plots = value_counts_per_year = None"
   ]
  },
  {
   "cell_type": "code",
   "execution_count": 78,
   "metadata": {},
   "outputs": [
    {
     "data": {
      "text/plain": [
       "'https://plotly.com/~ptecodev/8/'"
      ]
     },
     "execution_count": 78,
     "metadata": {},
     "output_type": "execute_result"
    }
   ],
   "source": [
    "bar_plots_all_years = [\n",
    "    go.Bar(name='after 2020', x=classes, y=df_2020['CLASSI_FIN'].value_counts().sort_index().values),\n",
    "    go.Bar(name='sum of years since 2014 until 2019', x=classes, y=df_control['CLASSI_FIN'].value_counts().sort_index().values),\n",
    "]\n",
    "\n",
    "fig_all_years=go.Figure(bar_plots_all_years)\n",
    "py.plot(fig_all_years, filename = 'all_years_bar_covid', auto_open=True)"
   ]
  },
  {
   "cell_type": "code",
   "execution_count": 79,
   "metadata": {},
   "outputs": [
    {
     "name": "stderr",
     "output_type": "stream",
     "text": [
      "/home/ec2-user/anaconda3/envs/python3/lib/python3.6/site-packages/ipykernel/__main__.py:32: UserWarning:\n",
      "\n",
      "Boolean Series key will be reindexed to match DataFrame index.\n",
      "\n"
     ]
    },
    {
     "data": {
      "text/plain": [
       "'https://plotly.com/~ptecodev/45/'"
      ]
     },
     "execution_count": 79,
     "metadata": {},
     "output_type": "execute_result"
    }
   ],
   "source": [
    "code_to_sg = {\n",
    "    11: 'RO',\n",
    "    12: 'AC',\n",
    "    13: 'AM',\n",
    "    14: 'RR',\n",
    "    15: 'PA',\n",
    "    16: 'AP',\n",
    "    17: 'TO',\n",
    "    21: 'MA',\n",
    "    22: 'PI',\n",
    "    23: 'CE',\n",
    "    24: 'RN',\n",
    "    25: 'PB',\n",
    "    26: 'PE',\n",
    "    27: 'AL',\n",
    "    28: 'SE',\n",
    "    29: 'BA',\n",
    "    31: 'MG',\n",
    "    32: 'ES',\n",
    "    33: 'RJ',\n",
    "    35: 'SP',\n",
    "    41: 'PR',\n",
    "    42: 'SC',\n",
    "    43: 'RS',\n",
    "    50: 'MS',\n",
    "    51: 'MT',\n",
    "    52: 'GO',\n",
    "    53: 'DF'\n",
    "}\n",
    "df_control['SG_UF_NOT'] = df_control['SG_UF_NOT'].replace(code_to_sg)\n",
    "states_2020 = df_2020[df_2020['CLASSI_FIN'] == 5]['SG_UF_NOT'].value_counts().sort_index()\n",
    "states_control = df_control[df_2020['CLASSI_FIN'] == 4]['SG_UF_NOT'].value_counts().sort_index()\n",
    "\n",
    "bar_plots_all_years = [\n",
    "    go.Bar(name='After 2020', x=states_2020.index, y=states_2020.values),\n",
    "    go.Bar(name='Before 2020', x=states_control.index, y=states_control.values),\n",
    "]\n",
    "\n",
    "fig_all_years=go.Figure(bar_plots_all_years)\n",
    "py.plot(fig_all_years, filename = 'all_year_by_state', auto_open=True)"
   ]
  },
  {
   "cell_type": "code",
   "execution_count": 72,
   "metadata": {},
   "outputs": [],
   "source": [
    "bar_plots_all_years = fig_all_years = None"
   ]
  },
  {
   "cell_type": "code",
   "execution_count": 16,
   "metadata": {},
   "outputs": [],
   "source": [
    "df_total=None\n",
    "df_total=pd.concat(dfs, sort=True)[['DT_SIN_PRI', 'CLASSI_FIN']]\n",
    "df_total['DT_SIN_PRI'] = pd.to_datetime(df_total['DT_SIN_PRI'], format=\"%d/%m/%Y\")"
   ]
  },
  {
   "cell_type": "code",
   "execution_count": 119,
   "metadata": {},
   "outputs": [],
   "source": [
    "dfs = None"
   ]
  },
  {
   "cell_type": "code",
   "execution_count": 75,
   "metadata": {},
   "outputs": [
    {
     "name": "stderr",
     "output_type": "stream",
     "text": [
      "/home/ec2-user/anaconda3/envs/python3/lib/python3.6/site-packages/plotly/graph_objs/_deprecations.py:385: DeprecationWarning:\n",
      "\n",
      "plotly.graph_objs.Line is deprecated.\n",
      "Please replace it with one of the following more specific types\n",
      "  - plotly.graph_objs.scatter.Line\n",
      "  - plotly.graph_objs.layout.shape.Line\n",
      "  - etc.\n",
      "\n",
      "\n"
     ]
    },
    {
     "data": {
      "text/plain": [
       "'https://plotly.com/~ptecodev/10/'"
      ]
     },
     "execution_count": 75,
     "metadata": {},
     "output_type": "execute_result"
    }
   ],
   "source": [
    "unk2020ts = df_total[df_total['CLASSI_FIN'] == 4].groupby('DT_SIN_PRI').count()['CLASSI_FIN']\n",
    "cov2020ts = df_total[df_total['CLASSI_FIN'] == 5].groupby('DT_SIN_PRI').count()['CLASSI_FIN']\n",
    "\n",
    "line_plots_2020_unk_vs_cov = [\n",
    "    go.Line(name='unknown cause cases', x=unk2020ts.index, y=unk2020ts.sort_index().values),\n",
    "    go.Line(name='COVID caused cases', x=cov2020ts.index, y=cov2020ts.sort_index().values),\n",
    "]\n",
    "line_fig_all_years=go.Figure(line_plots_2020_unk_vs_cov)\n",
    "py.plot(line_fig_all_years, filename = '2020_line_causes', auto_open=True)"
   ]
  },
  {
   "cell_type": "code",
   "execution_count": 76,
   "metadata": {},
   "outputs": [],
   "source": [
    "dfs= unk2020ts = cov2020ts = line_plots_2020_unk_vs_cov = line_fig_all_years = None"
   ]
  },
  {
   "cell_type": "markdown",
   "metadata": {},
   "source": [
    "These graphs clearly show that the amount of reported cases increased deeply in 2020, both from COVID and unidientified cases. This is the main focus of the project, to see if the amount of unidentified cases is actually a misrepresentation of COVID caused cases. \n",
    "\n",
    "# Feature Selection\n",
    "The next step of the way was selecting the features that would be used as base features from the dataframe columns. At first, the columns chosen were these:\n",
    "> SG_UF_NOT, CS_SEXO, TP_IDADE, NU_IDADE_N, CS_RACA, SURTO_SG, NOSOCOMIAL, AVE_SUINO, FEBRE, TOSSE, GARGANTA, DISPNEIA, DESC_RESP, SATURACAO, DIARREIA, VOMITO, OUTRO_SIN, PUERPERA, CARDIOPATI, HEMATOLOGI, SIND_DOWN, HEPATICA, ASMA, DIABETES, NEUROLOGIC, PNEUMOPATI, IMONODEPRE, RENAL, OBESIDADE, VACINA, ANTIVIRAL, TP_ANTIVIR, HOSPITAL, UTI, SUPORT_VEN, RAIOX_RES, AMOSTRA, TP_AMOSTRA, CRITERIO, EVOLUCAO.\n",
    "\n",
    "These columns describe the basic features of the patient, such as age, sex, self declared race, as well as diagnostic components like symptoms and exams, and also the risk factors of the patient.\n",
    "\n",
    "The CRITERIO and EVOLUCAO columns describe the criteria on which the final diagnosis was based and if the patient was cured or came to pass, respectively."
   ]
  },
  {
   "cell_type": "code",
   "execution_count": 8,
   "metadata": {},
   "outputs": [],
   "source": [
    "feature_list = ['CS_SEXO',\n",
    "                'CS_RACA',\n",
    "                'FEBRE',\n",
    "                'TOSSE',\n",
    "                'GARGANTA',\n",
    "                'DISPNEIA',\n",
    "                'DESC_RESP',\n",
    "                'SATURACAO',\n",
    "                'OUTRO_SIN',\n",
    "                'PUERPERA',\n",
    "                'CARDIOPATI',\n",
    "                'SIND_DOWN',\n",
    "                'HEPATICA',\n",
    "                'NEUROLOGIC',\n",
    "                'PNEUMOPATI',\n",
    "                'RENAL',\n",
    "                'OBESIDADE',\n",
    "                'VACINA',\n",
    "                'ANTIVIRAL',\n",
    "                'HOSPITAL',\n",
    "                'UTI',\n",
    "                'SUPORT_VEN',\n",
    "                'RAIOX_RES',\n",
    "                'EVOLUCAO'\n",
    "               ]"
   ]
  },
  {
   "cell_type": "code",
   "execution_count": 193,
   "metadata": {},
   "outputs": [],
   "source": [
    "data_dir = './data'"
   ]
  },
  {
   "cell_type": "code",
   "execution_count": 9,
   "metadata": {},
   "outputs": [],
   "source": [
    "def categorize_and_fill(df_in):\n",
    "    # feature_list is the list of selected features\n",
    "    df_out_X = df_in[feature_list + ['CLASSI_FIN', 'DT_SIN_PRI']]\n",
    "    \n",
    "    \n",
    "    # converting categorical into numeric\n",
    "        \n",
    "    df_out_X.loc[:,'CS_SEXO'] = df_out_X['CS_SEXO'].astype('category').cat.codes\n",
    "    \n",
    "    # filling the null values with the 'ignored' token\n",
    "    df_out_X = df_out_X.dropna()\n",
    "\n",
    "    \n",
    "    return df_out_X\n"
   ]
  },
  {
   "cell_type": "code",
   "execution_count": 10,
   "metadata": {},
   "outputs": [
    {
     "name": "stderr",
     "output_type": "stream",
     "text": [
      "/home/ec2-user/anaconda3/envs/python3/lib/python3.6/site-packages/pandas/core/indexing.py:966: SettingWithCopyWarning:\n",
      "\n",
      "\n",
      "A value is trying to be set on a copy of a slice from a DataFrame.\n",
      "Try using .loc[row_indexer,col_indexer] = value instead\n",
      "\n",
      "See the caveats in the documentation: https://pandas.pydata.org/pandas-docs/stable/user_guide/indexing.html#returning-a-view-versus-a-copy\n",
      "\n"
     ]
    }
   ],
   "source": [
    "df_2020 = categorize_and_fill(df_2020)\n",
    "df_control = categorize_and_fill(df_control)"
   ]
  },
  {
   "cell_type": "code",
   "execution_count": 11,
   "metadata": {},
   "outputs": [],
   "source": [
    "valid_index_2020 = df_2020['CLASSI_FIN'] == 5\n",
    "valid_index_control = df_control['CLASSI_FIN'] == 4\n",
    "\n",
    "full_df = pd.concat([df_2020[valid_index_2020], df_control[valid_index_control]], ignore_index=True, sort=False)\n"
   ]
  },
  {
   "cell_type": "code",
   "execution_count": 24,
   "metadata": {},
   "outputs": [],
   "source": [
    "def plot_correlation_matrix(df):\n",
    "    corr = df.corr()\n",
    "    mask = np.triu(np.ones_like(corr, dtype=np.bool))\n",
    "\n",
    "    # Set up the matplotlib figure\n",
    "    f, ax = plt.subplots(figsize=(11, 9))\n",
    "\n",
    "    # Generate a custom diverging colormap\n",
    "    cmap = sns.diverging_palette(220, 10, as_cmap=True)\n",
    "\n",
    "    # Draw the heatmap with the mask and correct aspect ratio\n",
    "    sns.heatmap(corr, mask=mask, cmap=cmap, vmax=.3, center=0,\n",
    "                square=True, linewidths=.5, cbar_kws={\"shrink\": .5})"
   ]
  },
  {
   "cell_type": "code",
   "execution_count": 13,
   "metadata": {},
   "outputs": [],
   "source": [
    "full_df.loc[full_df['CLASSI_FIN'] == 4, 'CLASSI_FIN'] = 0\n",
    "full_df.loc[full_df['CLASSI_FIN'] == 5, 'CLASSI_FIN'] = 1\n",
    "full_df['DT_SIN_PRI'] = pd.to_datetime(full_df['DT_SIN_PRI'], format=\"%d/%m/%Y\")"
   ]
  },
  {
   "cell_type": "code",
   "execution_count": 12,
   "metadata": {},
   "outputs": [
    {
     "data": {
      "text/html": [
       "<div>\n",
       "<style scoped>\n",
       "    .dataframe tbody tr th:only-of-type {\n",
       "        vertical-align: middle;\n",
       "    }\n",
       "\n",
       "    .dataframe tbody tr th {\n",
       "        vertical-align: top;\n",
       "    }\n",
       "\n",
       "    .dataframe thead th {\n",
       "        text-align: right;\n",
       "    }\n",
       "</style>\n",
       "<table border=\"1\" class=\"dataframe\">\n",
       "  <thead>\n",
       "    <tr style=\"text-align: right;\">\n",
       "      <th></th>\n",
       "      <th>CS_SEXO</th>\n",
       "      <th>CS_RACA</th>\n",
       "      <th>FEBRE</th>\n",
       "      <th>TOSSE</th>\n",
       "      <th>GARGANTA</th>\n",
       "      <th>DISPNEIA</th>\n",
       "      <th>DESC_RESP</th>\n",
       "      <th>SATURACAO</th>\n",
       "      <th>OUTRO_SIN</th>\n",
       "      <th>PUERPERA</th>\n",
       "      <th>...</th>\n",
       "      <th>OBESIDADE</th>\n",
       "      <th>VACINA</th>\n",
       "      <th>ANTIVIRAL</th>\n",
       "      <th>HOSPITAL</th>\n",
       "      <th>UTI</th>\n",
       "      <th>SUPORT_VEN</th>\n",
       "      <th>RAIOX_RES</th>\n",
       "      <th>EVOLUCAO</th>\n",
       "      <th>CLASSI_FIN</th>\n",
       "      <th>DT_SIN_PRI</th>\n",
       "    </tr>\n",
       "  </thead>\n",
       "  <tbody>\n",
       "    <tr>\n",
       "      <th>0</th>\n",
       "      <td>2</td>\n",
       "      <td>1.0</td>\n",
       "      <td>1.0</td>\n",
       "      <td>1.0</td>\n",
       "      <td>2.0</td>\n",
       "      <td>1.0</td>\n",
       "      <td>1.0</td>\n",
       "      <td>2.0</td>\n",
       "      <td>2.0</td>\n",
       "      <td>2.0</td>\n",
       "      <td>...</td>\n",
       "      <td>2.0</td>\n",
       "      <td>1.0</td>\n",
       "      <td>1.0</td>\n",
       "      <td>1.0</td>\n",
       "      <td>1.0</td>\n",
       "      <td>2.0</td>\n",
       "      <td>6.0</td>\n",
       "      <td>2.0</td>\n",
       "      <td>5.0</td>\n",
       "      <td>02/03/2020</td>\n",
       "    </tr>\n",
       "    <tr>\n",
       "      <th>1</th>\n",
       "      <td>0</td>\n",
       "      <td>4.0</td>\n",
       "      <td>1.0</td>\n",
       "      <td>1.0</td>\n",
       "      <td>2.0</td>\n",
       "      <td>1.0</td>\n",
       "      <td>1.0</td>\n",
       "      <td>2.0</td>\n",
       "      <td>2.0</td>\n",
       "      <td>2.0</td>\n",
       "      <td>...</td>\n",
       "      <td>1.0</td>\n",
       "      <td>2.0</td>\n",
       "      <td>1.0</td>\n",
       "      <td>1.0</td>\n",
       "      <td>2.0</td>\n",
       "      <td>3.0</td>\n",
       "      <td>2.0</td>\n",
       "      <td>1.0</td>\n",
       "      <td>5.0</td>\n",
       "      <td>17/02/2020</td>\n",
       "    </tr>\n",
       "    <tr>\n",
       "      <th>2</th>\n",
       "      <td>2</td>\n",
       "      <td>9.0</td>\n",
       "      <td>1.0</td>\n",
       "      <td>1.0</td>\n",
       "      <td>2.0</td>\n",
       "      <td>2.0</td>\n",
       "      <td>2.0</td>\n",
       "      <td>1.0</td>\n",
       "      <td>1.0</td>\n",
       "      <td>2.0</td>\n",
       "      <td>...</td>\n",
       "      <td>2.0</td>\n",
       "      <td>2.0</td>\n",
       "      <td>1.0</td>\n",
       "      <td>1.0</td>\n",
       "      <td>2.0</td>\n",
       "      <td>3.0</td>\n",
       "      <td>6.0</td>\n",
       "      <td>1.0</td>\n",
       "      <td>5.0</td>\n",
       "      <td>01/03/2020</td>\n",
       "    </tr>\n",
       "    <tr>\n",
       "      <th>4</th>\n",
       "      <td>0</td>\n",
       "      <td>2.0</td>\n",
       "      <td>1.0</td>\n",
       "      <td>1.0</td>\n",
       "      <td>2.0</td>\n",
       "      <td>1.0</td>\n",
       "      <td>1.0</td>\n",
       "      <td>1.0</td>\n",
       "      <td>1.0</td>\n",
       "      <td>2.0</td>\n",
       "      <td>...</td>\n",
       "      <td>2.0</td>\n",
       "      <td>2.0</td>\n",
       "      <td>1.0</td>\n",
       "      <td>1.0</td>\n",
       "      <td>1.0</td>\n",
       "      <td>1.0</td>\n",
       "      <td>2.0</td>\n",
       "      <td>2.0</td>\n",
       "      <td>5.0</td>\n",
       "      <td>11/03/2020</td>\n",
       "    </tr>\n",
       "    <tr>\n",
       "      <th>5</th>\n",
       "      <td>0</td>\n",
       "      <td>2.0</td>\n",
       "      <td>1.0</td>\n",
       "      <td>1.0</td>\n",
       "      <td>1.0</td>\n",
       "      <td>1.0</td>\n",
       "      <td>1.0</td>\n",
       "      <td>1.0</td>\n",
       "      <td>2.0</td>\n",
       "      <td>1.0</td>\n",
       "      <td>...</td>\n",
       "      <td>2.0</td>\n",
       "      <td>2.0</td>\n",
       "      <td>1.0</td>\n",
       "      <td>1.0</td>\n",
       "      <td>2.0</td>\n",
       "      <td>2.0</td>\n",
       "      <td>2.0</td>\n",
       "      <td>2.0</td>\n",
       "      <td>5.0</td>\n",
       "      <td>12/03/2020</td>\n",
       "    </tr>\n",
       "    <tr>\n",
       "      <th>...</th>\n",
       "      <td>...</td>\n",
       "      <td>...</td>\n",
       "      <td>...</td>\n",
       "      <td>...</td>\n",
       "      <td>...</td>\n",
       "      <td>...</td>\n",
       "      <td>...</td>\n",
       "      <td>...</td>\n",
       "      <td>...</td>\n",
       "      <td>...</td>\n",
       "      <td>...</td>\n",
       "      <td>...</td>\n",
       "      <td>...</td>\n",
       "      <td>...</td>\n",
       "      <td>...</td>\n",
       "      <td>...</td>\n",
       "      <td>...</td>\n",
       "      <td>...</td>\n",
       "      <td>...</td>\n",
       "      <td>...</td>\n",
       "      <td>...</td>\n",
       "    </tr>\n",
       "    <tr>\n",
       "      <th>142035</th>\n",
       "      <td>2</td>\n",
       "      <td>4.0</td>\n",
       "      <td>1.0</td>\n",
       "      <td>1.0</td>\n",
       "      <td>2.0</td>\n",
       "      <td>1.0</td>\n",
       "      <td>2.0</td>\n",
       "      <td>2.0</td>\n",
       "      <td>1.0</td>\n",
       "      <td>2.0</td>\n",
       "      <td>...</td>\n",
       "      <td>2.0</td>\n",
       "      <td>9.0</td>\n",
       "      <td>1.0</td>\n",
       "      <td>1.0</td>\n",
       "      <td>1.0</td>\n",
       "      <td>1.0</td>\n",
       "      <td>5.0</td>\n",
       "      <td>2.0</td>\n",
       "      <td>4.0</td>\n",
       "      <td>19/12/2019</td>\n",
       "    </tr>\n",
       "    <tr>\n",
       "      <th>142036</th>\n",
       "      <td>2</td>\n",
       "      <td>1.0</td>\n",
       "      <td>1.0</td>\n",
       "      <td>1.0</td>\n",
       "      <td>1.0</td>\n",
       "      <td>1.0</td>\n",
       "      <td>1.0</td>\n",
       "      <td>2.0</td>\n",
       "      <td>2.0</td>\n",
       "      <td>2.0</td>\n",
       "      <td>...</td>\n",
       "      <td>2.0</td>\n",
       "      <td>1.0</td>\n",
       "      <td>1.0</td>\n",
       "      <td>1.0</td>\n",
       "      <td>1.0</td>\n",
       "      <td>2.0</td>\n",
       "      <td>4.0</td>\n",
       "      <td>1.0</td>\n",
       "      <td>4.0</td>\n",
       "      <td>11/12/2019</td>\n",
       "    </tr>\n",
       "    <tr>\n",
       "      <th>142038</th>\n",
       "      <td>2</td>\n",
       "      <td>1.0</td>\n",
       "      <td>1.0</td>\n",
       "      <td>1.0</td>\n",
       "      <td>2.0</td>\n",
       "      <td>1.0</td>\n",
       "      <td>1.0</td>\n",
       "      <td>1.0</td>\n",
       "      <td>1.0</td>\n",
       "      <td>2.0</td>\n",
       "      <td>...</td>\n",
       "      <td>2.0</td>\n",
       "      <td>9.0</td>\n",
       "      <td>1.0</td>\n",
       "      <td>1.0</td>\n",
       "      <td>1.0</td>\n",
       "      <td>1.0</td>\n",
       "      <td>2.0</td>\n",
       "      <td>2.0</td>\n",
       "      <td>4.0</td>\n",
       "      <td>18/12/2019</td>\n",
       "    </tr>\n",
       "    <tr>\n",
       "      <th>142039</th>\n",
       "      <td>0</td>\n",
       "      <td>4.0</td>\n",
       "      <td>2.0</td>\n",
       "      <td>1.0</td>\n",
       "      <td>2.0</td>\n",
       "      <td>1.0</td>\n",
       "      <td>1.0</td>\n",
       "      <td>1.0</td>\n",
       "      <td>1.0</td>\n",
       "      <td>2.0</td>\n",
       "      <td>...</td>\n",
       "      <td>2.0</td>\n",
       "      <td>9.0</td>\n",
       "      <td>2.0</td>\n",
       "      <td>1.0</td>\n",
       "      <td>1.0</td>\n",
       "      <td>2.0</td>\n",
       "      <td>2.0</td>\n",
       "      <td>1.0</td>\n",
       "      <td>4.0</td>\n",
       "      <td>17/12/2019</td>\n",
       "    </tr>\n",
       "    <tr>\n",
       "      <th>142042</th>\n",
       "      <td>0</td>\n",
       "      <td>4.0</td>\n",
       "      <td>1.0</td>\n",
       "      <td>1.0</td>\n",
       "      <td>2.0</td>\n",
       "      <td>1.0</td>\n",
       "      <td>1.0</td>\n",
       "      <td>1.0</td>\n",
       "      <td>2.0</td>\n",
       "      <td>2.0</td>\n",
       "      <td>...</td>\n",
       "      <td>2.0</td>\n",
       "      <td>2.0</td>\n",
       "      <td>1.0</td>\n",
       "      <td>1.0</td>\n",
       "      <td>2.0</td>\n",
       "      <td>2.0</td>\n",
       "      <td>2.0</td>\n",
       "      <td>1.0</td>\n",
       "      <td>4.0</td>\n",
       "      <td>03/12/2019</td>\n",
       "    </tr>\n",
       "  </tbody>\n",
       "</table>\n",
       "<p>96490 rows × 26 columns</p>\n",
       "</div>"
      ],
      "text/plain": [
       "        CS_SEXO  CS_RACA  FEBRE  TOSSE  GARGANTA  DISPNEIA  DESC_RESP  \\\n",
       "0             2      1.0    1.0    1.0       2.0       1.0        1.0   \n",
       "1             0      4.0    1.0    1.0       2.0       1.0        1.0   \n",
       "2             2      9.0    1.0    1.0       2.0       2.0        2.0   \n",
       "4             0      2.0    1.0    1.0       2.0       1.0        1.0   \n",
       "5             0      2.0    1.0    1.0       1.0       1.0        1.0   \n",
       "...         ...      ...    ...    ...       ...       ...        ...   \n",
       "142035        2      4.0    1.0    1.0       2.0       1.0        2.0   \n",
       "142036        2      1.0    1.0    1.0       1.0       1.0        1.0   \n",
       "142038        2      1.0    1.0    1.0       2.0       1.0        1.0   \n",
       "142039        0      4.0    2.0    1.0       2.0       1.0        1.0   \n",
       "142042        0      4.0    1.0    1.0       2.0       1.0        1.0   \n",
       "\n",
       "        SATURACAO  OUTRO_SIN  PUERPERA  ...  OBESIDADE  VACINA  ANTIVIRAL  \\\n",
       "0             2.0        2.0       2.0  ...        2.0     1.0        1.0   \n",
       "1             2.0        2.0       2.0  ...        1.0     2.0        1.0   \n",
       "2             1.0        1.0       2.0  ...        2.0     2.0        1.0   \n",
       "4             1.0        1.0       2.0  ...        2.0     2.0        1.0   \n",
       "5             1.0        2.0       1.0  ...        2.0     2.0        1.0   \n",
       "...           ...        ...       ...  ...        ...     ...        ...   \n",
       "142035        2.0        1.0       2.0  ...        2.0     9.0        1.0   \n",
       "142036        2.0        2.0       2.0  ...        2.0     1.0        1.0   \n",
       "142038        1.0        1.0       2.0  ...        2.0     9.0        1.0   \n",
       "142039        1.0        1.0       2.0  ...        2.0     9.0        2.0   \n",
       "142042        1.0        2.0       2.0  ...        2.0     2.0        1.0   \n",
       "\n",
       "        HOSPITAL  UTI  SUPORT_VEN  RAIOX_RES  EVOLUCAO  CLASSI_FIN  DT_SIN_PRI  \n",
       "0            1.0  1.0         2.0        6.0       2.0         5.0  02/03/2020  \n",
       "1            1.0  2.0         3.0        2.0       1.0         5.0  17/02/2020  \n",
       "2            1.0  2.0         3.0        6.0       1.0         5.0  01/03/2020  \n",
       "4            1.0  1.0         1.0        2.0       2.0         5.0  11/03/2020  \n",
       "5            1.0  2.0         2.0        2.0       2.0         5.0  12/03/2020  \n",
       "...          ...  ...         ...        ...       ...         ...         ...  \n",
       "142035       1.0  1.0         1.0        5.0       2.0         4.0  19/12/2019  \n",
       "142036       1.0  1.0         2.0        4.0       1.0         4.0  11/12/2019  \n",
       "142038       1.0  1.0         1.0        2.0       2.0         4.0  18/12/2019  \n",
       "142039       1.0  1.0         2.0        2.0       1.0         4.0  17/12/2019  \n",
       "142042       1.0  2.0         2.0        2.0       1.0         4.0  03/12/2019  \n",
       "\n",
       "[96490 rows x 26 columns]"
      ]
     },
     "execution_count": 12,
     "metadata": {},
     "output_type": "execute_result"
    }
   ],
   "source": [
    "full_df[full_df['DT_SIN_PRI'] < '2020']"
   ]
  },
  {
   "cell_type": "code",
   "execution_count": 14,
   "metadata": {},
   "outputs": [],
   "source": [
    "full_df['STAGE'] = full_df['DT_SIN_PRI'] > '2020'"
   ]
  },
  {
   "cell_type": "code",
   "execution_count": 43,
   "metadata": {
    "collapsed": true,
    "jupyter": {
     "outputs_hidden": true
    }
   },
   "outputs": [
    {
     "name": "stdout",
     "output_type": "stream",
     "text": [
      "Post 2020: \n",
      "2    26091\n",
      "0    21761\n",
      "1       15\n",
      "Name: CS_SEXO, dtype: int64\n",
      "Pre 2020: \n",
      "2    47514\n",
      "0    46644\n",
      "1       19\n",
      "Name: CS_SEXO, dtype: int64\n",
      "Post 2020: \n",
      "1.0    19391\n",
      "4.0    17095\n",
      "9.0     7935\n",
      "2.0     2746\n",
      "3.0      578\n",
      "5.0      122\n",
      "Name: CS_RACA, dtype: int64\n",
      "Pre 2020: \n",
      "1.0    52801\n",
      "4.0    23836\n",
      "9.0    12080\n",
      "2.0     4087\n",
      "5.0      761\n",
      "3.0      612\n",
      "Name: CS_RACA, dtype: int64\n",
      "Post 2020: \n",
      "1.0    32656\n",
      "2.0    14408\n",
      "9.0      803\n",
      "Name: FEBRE, dtype: int64\n",
      "Pre 2020: \n",
      "1.0    77091\n",
      "2.0    16184\n",
      "9.0      902\n",
      "Name: FEBRE, dtype: int64\n",
      "Post 2020: \n",
      "1.0    36013\n",
      "2.0    11171\n",
      "9.0      683\n",
      "Name: TOSSE, dtype: int64\n",
      "Pre 2020: \n",
      "1.0    83591\n",
      "2.0     9797\n",
      "9.0      789\n",
      "Name: TOSSE, dtype: int64\n",
      "Post 2020: \n",
      "2.0    37649\n",
      "1.0     8526\n",
      "9.0     1692\n",
      "Name: GARGANTA, dtype: int64\n",
      "Pre 2020: \n",
      "2.0    68584\n",
      "1.0    15408\n",
      "9.0    10185\n",
      "Name: GARGANTA, dtype: int64\n",
      "Post 2020: \n",
      "1.0    36030\n",
      "2.0    11220\n",
      "9.0      617\n",
      "Name: DISPNEIA, dtype: int64\n",
      "Pre 2020: \n",
      "1.0    77501\n",
      "2.0    15823\n",
      "9.0      853\n",
      "Name: DISPNEIA, dtype: int64\n",
      "Post 2020: \n",
      "1.0    30820\n",
      "2.0    16129\n",
      "9.0      918\n",
      "Name: DESC_RESP, dtype: int64\n",
      "Pre 2020: \n",
      "1.0    76096\n",
      "2.0    16270\n",
      "9.0     1811\n",
      "Name: DESC_RESP, dtype: int64\n",
      "Post 2020: \n",
      "1.0    31461\n",
      "2.0    15382\n",
      "9.0     1024\n",
      "Name: SATURACAO, dtype: int64\n",
      "Pre 2020: \n",
      "1.0    55622\n",
      "2.0    35290\n",
      "9.0     3265\n",
      "Name: SATURACAO, dtype: int64\n",
      "Post 2020: \n",
      "2.0    28021\n",
      "1.0    17691\n",
      "9.0     2155\n",
      "Name: OUTRO_SIN, dtype: int64\n",
      "Pre 2020: \n",
      "2.0    63975\n",
      "1.0    24914\n",
      "9.0     5288\n",
      "Name: OUTRO_SIN, dtype: int64\n",
      "Post 2020: \n",
      "2.0    46009\n",
      "9.0     1559\n",
      "1.0      299\n",
      "Name: PUERPERA, dtype: int64\n",
      "Pre 2020: \n",
      "2.0    92229\n",
      "9.0     1279\n",
      "1.0      669\n",
      "Name: PUERPERA, dtype: int64\n",
      "Post 2020: \n",
      "1.0    24847\n",
      "2.0    22166\n",
      "9.0      854\n",
      "Name: CARDIOPATI, dtype: int64\n",
      "Pre 2020: \n",
      "2.0    78004\n",
      "1.0    12658\n",
      "9.0     3515\n",
      "Name: CARDIOPATI, dtype: int64\n",
      "Post 2020: \n",
      "2.0    46069\n",
      "9.0     1572\n",
      "1.0      226\n",
      "Name: SIND_DOWN, dtype: int64\n",
      "Pre 2020: \n",
      "2.0    89614\n",
      "9.0     3278\n",
      "1.0     1285\n",
      "Name: SIND_DOWN, dtype: int64\n",
      "Post 2020: \n",
      "2.0    45327\n",
      "9.0     1702\n",
      "1.0      838\n",
      "Name: HEPATICA, dtype: int64\n",
      "Pre 2020: \n",
      "2.0    89528\n",
      "9.0     3787\n",
      "1.0      862\n",
      "Name: HEPATICA, dtype: int64\n",
      "Post 2020: \n",
      "2.0    43229\n",
      "1.0     3008\n",
      "9.0     1630\n",
      "Name: NEUROLOGIC, dtype: int64\n",
      "Pre 2020: \n",
      "2.0    85038\n",
      "1.0     5545\n",
      "9.0     3594\n",
      "Name: NEUROLOGIC, dtype: int64\n",
      "Post 2020: \n",
      "2.0    43190\n",
      "1.0     3044\n",
      "9.0     1633\n",
      "Name: PNEUMOPATI, dtype: int64\n",
      "Pre 2020: \n",
      "2.0    75870\n",
      "1.0    14652\n",
      "9.0     3655\n",
      "Name: PNEUMOPATI, dtype: int64\n",
      "Post 2020: \n",
      "2.0    42826\n",
      "1.0     3414\n",
      "9.0     1627\n",
      "Name: RENAL, dtype: int64\n",
      "Pre 2020: \n",
      "2.0    87733\n",
      "9.0     3597\n",
      "1.0     2847\n",
      "Name: RENAL, dtype: int64\n",
      "Post 2020: \n",
      "2.0    41940\n",
      "1.0     3441\n",
      "9.0     2486\n",
      "Name: OBESIDADE, dtype: int64\n",
      "Pre 2020: \n",
      "2.0    87497\n",
      "9.0     3573\n",
      "1.0     3107\n",
      "Name: OBESIDADE, dtype: int64\n",
      "Post 2020: \n",
      "9.0    22833\n",
      "2.0    16043\n",
      "1.0     8991\n",
      "Name: VACINA, dtype: int64\n",
      "Pre 2020: \n",
      "2.0    52369\n",
      "1.0    21739\n",
      "9.0    20069\n",
      "Name: VACINA, dtype: int64\n",
      "Post 2020: \n",
      "2.0    25730\n",
      "1.0    15736\n",
      "9.0     6401\n",
      "Name: ANTIVIRAL, dtype: int64\n",
      "Pre 2020: \n",
      "2.0    56054\n",
      "1.0    35780\n",
      "9.0     2005\n",
      "4.0      240\n",
      "3.0       98\n",
      "Name: ANTIVIRAL, dtype: int64\n",
      "Post 2020: \n",
      "1.0    47866\n",
      "2.0        1\n",
      "Name: HOSPITAL, dtype: int64\n",
      "Pre 2020: \n",
      "1.0    93318\n",
      "2.0      800\n",
      "9.0       59\n",
      "Name: HOSPITAL, dtype: int64\n",
      "Post 2020: \n",
      "2.0    27777\n",
      "1.0    18644\n",
      "9.0     1446\n",
      "Name: UTI, dtype: int64\n",
      "Pre 2020: \n",
      "2.0    60064\n",
      "1.0    33086\n",
      "9.0     1027\n",
      "Name: UTI, dtype: int64\n",
      "Post 2020: \n",
      "2.0    22227\n",
      "1.0    11972\n",
      "3.0    11189\n",
      "9.0     2479\n",
      "Name: SUPORT_VEN, dtype: int64\n",
      "Pre 2020: \n",
      "3.0    40323\n",
      "1.0    29119\n",
      "2.0    22983\n",
      "9.0     1752\n",
      "Name: SUPORT_VEN, dtype: int64\n",
      "Post 2020: \n",
      "2.0    11996\n",
      "5.0    11391\n",
      "6.0    10786\n",
      "9.0     8092\n",
      "4.0     2253\n",
      "3.0     1852\n",
      "1.0     1497\n",
      "Name: RAIOX_RES, dtype: int64\n",
      "Pre 2020: \n",
      "2.0    41108\n",
      "5.0    12068\n",
      "1.0    11809\n",
      "3.0     9762\n",
      "6.0     8428\n",
      "9.0     5921\n",
      "4.0     5081\n",
      "Name: RAIOX_RES, dtype: int64\n",
      "Post 2020: \n",
      "1.0    24892\n",
      "2.0    21441\n",
      "9.0     1530\n",
      "3.0        4\n",
      "Name: EVOLUCAO, dtype: int64\n",
      "Pre 2020: \n",
      "1.0    79126\n",
      "2.0    12946\n",
      "9.0     2105\n",
      "Name: EVOLUCAO, dtype: int64\n"
     ]
    }
   ],
   "source": [
    "for feature in feature_list:\n",
    "    if feature == 'TP_IDADE':\n",
    "        continue\n",
    "    tt = full_df[full_df['DT_SIN_PRI'] > '2020'][feature]\n",
    "    before = full_df[full_df['DT_SIN_PRI'] < '2020'][feature]\n",
    "    print(\"Post 2020: \")\n",
    "    print(tt.value_counts())\n",
    "    print(\"Pre 2020: \")\n",
    "    print(before.value_counts())\n",
    "    "
   ]
  },
  {
   "cell_type": "code",
   "execution_count": 41,
   "metadata": {},
   "outputs": [],
   "source": [
    "import plotly.express as px\n",
    "plt = px.bar(x=['YES', 'NO', 'IGNORED'], y=full_df[[not x for x in full_df[\"STAGE\"]]]['PUERPERA'].value_counts().sort_index())"
   ]
  },
  {
   "cell_type": "code",
   "execution_count": 42,
   "metadata": {},
   "outputs": [
    {
     "data": {
      "text/plain": [
       "'https://plotly.com/~ptecodev/37/'"
      ]
     },
     "execution_count": 42,
     "metadata": {},
     "output_type": "execute_result"
    }
   ],
   "source": [
    "py.plot(plt, filename = 'PUERPERA', auto_open=True)"
   ]
  },
  {
   "cell_type": "code",
   "execution_count": 85,
   "metadata": {},
   "outputs": [],
   "source": [
    "full_df = None"
   ]
  },
  {
   "cell_type": "code",
   "execution_count": 47,
   "metadata": {},
   "outputs": [],
   "source": [
    "from sklearn.model_selection import train_test_split\n",
    "from sklearn.preprocessing import MinMaxScaler\n",
    "from sklearn.utils import shuffle\n",
    "X_2020, y_2020 = df_2020[df_2020['CLASSI_FIN'] == 4][[x for x in feature_list if x != 'TP_IDADE']].values, df_2020[df_2020['CLASSI_FIN'] == 4]['CLASSI_FIN'].values\n",
    "X_2020, y_2020, shuffle(X_2020, y_2020)\n",
    "total_X, total_Y = full_df[[x for x in feature_list if x != 'TP_IDADE']].values, full_df['CLASSI_FIN'].values\n",
    "total_X, total_Y = shuffle(total_X, total_Y)"
   ]
  },
  {
   "cell_type": "code",
   "execution_count": 48,
   "metadata": {},
   "outputs": [],
   "source": [
    "total_X = MinMaxScaler().fit_transform(total_X)\n",
    "train_X, test_X, train_y, test_y = train_test_split(total_X, total_Y)\n",
    "val_X, test_X, val_y, test_y = train_test_split(test_X, test_y)\n",
    "X_2020 = MinMaxScaler().fit_transform(X_2020)\n",
    "y_2020 = MinMaxScaler().fit_transform(y_2020.reshape(1,-1))\n"
   ]
  },
  {
   "cell_type": "code",
   "execution_count": 51,
   "metadata": {},
   "outputs": [
    {
     "data": {
      "text/plain": [
       "41643"
      ]
     },
     "execution_count": 51,
     "metadata": {},
     "output_type": "execute_result"
    }
   ],
   "source": [
    "len(X_2020)"
   ]
  },
  {
   "cell_type": "code",
   "execution_count": 34,
   "metadata": {},
   "outputs": [],
   "source": [
    "data_dir='./data'"
   ]
  },
  {
   "cell_type": "code",
   "execution_count": 49,
   "metadata": {},
   "outputs": [],
   "source": [
    "def save_data(train_X, val_X, test_X, train_y, val_y, test_y ):\n",
    "    pd.concat([pd.DataFrame(train_y),pd.DataFrame(train_X)], axis=1).to_csv(data_dir+'/train.csv', index=False, header=False)\n",
    "    pd.concat([pd.DataFrame(val_y),pd.DataFrame(val_X)], axis=1).to_csv(data_dir+'/val.csv', index=False, header=False)\n",
    "    pd.concat([pd.DataFrame(test_y),pd.DataFrame(test_X)], axis=1).to_csv(data_dir+'/test.csv', index=False, header=False)\n",
    "    pd.concat([pd.DataFrame(X_2020)], axis=1).to_csv(data_dir+'/x_test_2020.csv', index=False, header=False)\n",
    "    pd.DataFrame(y_2020[0]).to_csv(data_dir+'/y_test_2020.csv', index=False,header=False)"
   ]
  },
  {
   "cell_type": "code",
   "execution_count": 50,
   "metadata": {},
   "outputs": [],
   "source": [
    "save_data(train_X, val_X, test_X, train_y, val_y, test_y)"
   ]
  },
  {
   "cell_type": "code",
   "execution_count": 58,
   "metadata": {},
   "outputs": [
    {
     "data": {
      "text/html": [
       "<div>\n",
       "<style scoped>\n",
       "    .dataframe tbody tr th:only-of-type {\n",
       "        vertical-align: middle;\n",
       "    }\n",
       "\n",
       "    .dataframe tbody tr th {\n",
       "        vertical-align: top;\n",
       "    }\n",
       "\n",
       "    .dataframe thead th {\n",
       "        text-align: right;\n",
       "    }\n",
       "</style>\n",
       "<table border=\"1\" class=\"dataframe\">\n",
       "  <thead>\n",
       "    <tr style=\"text-align: right;\">\n",
       "      <th></th>\n",
       "      <th>0</th>\n",
       "    </tr>\n",
       "  </thead>\n",
       "  <tbody>\n",
       "    <tr>\n",
       "      <th>0</th>\n",
       "      <td>0.0</td>\n",
       "    </tr>\n",
       "    <tr>\n",
       "      <th>1</th>\n",
       "      <td>0.0</td>\n",
       "    </tr>\n",
       "    <tr>\n",
       "      <th>2</th>\n",
       "      <td>0.0</td>\n",
       "    </tr>\n",
       "    <tr>\n",
       "      <th>3</th>\n",
       "      <td>0.0</td>\n",
       "    </tr>\n",
       "    <tr>\n",
       "      <th>4</th>\n",
       "      <td>0.0</td>\n",
       "    </tr>\n",
       "    <tr>\n",
       "      <th>...</th>\n",
       "      <td>...</td>\n",
       "    </tr>\n",
       "    <tr>\n",
       "      <th>150273</th>\n",
       "      <td>0.0</td>\n",
       "    </tr>\n",
       "    <tr>\n",
       "      <th>150274</th>\n",
       "      <td>0.0</td>\n",
       "    </tr>\n",
       "    <tr>\n",
       "      <th>150275</th>\n",
       "      <td>0.0</td>\n",
       "    </tr>\n",
       "    <tr>\n",
       "      <th>150276</th>\n",
       "      <td>0.0</td>\n",
       "    </tr>\n",
       "    <tr>\n",
       "      <th>150277</th>\n",
       "      <td>0.0</td>\n",
       "    </tr>\n",
       "  </tbody>\n",
       "</table>\n",
       "<p>150278 rows × 1 columns</p>\n",
       "</div>"
      ],
      "text/plain": [
       "          0\n",
       "0       0.0\n",
       "1       0.0\n",
       "2       0.0\n",
       "3       0.0\n",
       "4       0.0\n",
       "...     ...\n",
       "150273  0.0\n",
       "150274  0.0\n",
       "150275  0.0\n",
       "150276  0.0\n",
       "150277  0.0\n",
       "\n",
       "[150278 rows x 1 columns]"
      ]
     },
     "execution_count": 58,
     "metadata": {},
     "output_type": "execute_result"
    }
   ],
   "source": []
  },
  {
   "cell_type": "code",
   "execution_count": null,
   "metadata": {},
   "outputs": [],
   "source": []
  }
 ],
 "metadata": {
  "kernelspec": {
   "display_name": "conda_python3",
   "language": "python",
   "name": "conda_python3"
  },
  "language_info": {
   "codemirror_mode": {
    "name": "ipython",
    "version": 3
   },
   "file_extension": ".py",
   "mimetype": "text/x-python",
   "name": "python",
   "nbconvert_exporter": "python",
   "pygments_lexer": "ipython3",
   "version": "3.6.10"
  }
 },
 "nbformat": 4,
 "nbformat_minor": 4
}

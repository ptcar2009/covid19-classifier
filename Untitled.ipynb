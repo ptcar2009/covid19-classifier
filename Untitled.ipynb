{
 "cells": [
  {
   "cell_type": "markdown",
   "metadata": {},
   "source": [
    "# Model creation and evaluation\n",
    "The next step was to create a few models, hypertune them and compare them using the F1 metric. The first model will be the benchmark model, which is the XGBoost.\n",
    "\n",
    "To construct the XGBoost, I'll use the SageMaker's XGBoost API."
   ]
  },
  {
   "cell_type": "code",
   "execution_count": 72,
   "metadata": {},
   "outputs": [
    {
     "name": "stderr",
     "output_type": "stream",
     "text": [
      "WARNING:sagemaker.amazon.amazon_estimator:'get_image_uri' method will be deprecated in favor of 'ImageURIProvider' class in SageMaker Python SDK v2.\n",
      "WARNING:root:There is a more up to date SageMaker XGBoost image. To use the newer image, please set 'repo_version'='1.0-1'. For example:\n",
      "\tget_image_uri(region, 'xgboost', '1.0-1').\n"
     ]
    }
   ],
   "source": [
    "import os\n",
    "import sagemaker\n",
    "from sagemaker.amazon.amazon_estimator import get_image_uri\n",
    "from sagemaker import get_execution_role\n",
    "\n",
    "# Our current execution role is require when creating the model as the training\n",
    "# and inference code will need to access the model artifacts.\n",
    "role = get_execution_role()\n",
    "session = sagemaker.Session() # Store the current SageMaker session\n",
    "# S3 prefix (which folder will we use)\n",
    "prefix = 'covid19-classifier'\n",
    "container = get_image_uri(session.boto_region_name, 'xgboost')\n"
   ]
  },
  {
   "cell_type": "code",
   "execution_count": 73,
   "metadata": {},
   "outputs": [
    {
     "name": "stdout",
     "output_type": "stream",
     "text": [
      "12998\n"
     ]
    }
   ],
   "source": [
    "import pandas as pd\n",
    "test_df = pd.read_csv('data/test.csv', encoding='latin2')\n",
    "test_x = test_df.iloc[:, 1:]\n",
    "test_x.to_csv('data/test_x.csv', index=False)\n",
    "test_y = test_df.iloc[:,0]\n",
    "print(len(test_y[test_y == 1]) )"
   ]
  },
  {
   "cell_type": "code",
   "execution_count": 96,
   "metadata": {},
   "outputs": [],
   "source": [
    "data_dir = 'data'\n",
    "\n",
    "test_location = session.upload_data(os.path.join(data_dir, 'x_2020.csv'), key_prefix=prefix)\n",
    "val_location = session.upload_data(os.path.join(data_dir, 'val.csv'), key_prefix=prefix)\n",
    "train_location = session.upload_data(os.path.join(data_dir, 'train.csv'), key_prefix=prefix)"
   ]
  },
  {
   "cell_type": "code",
   "execution_count": 75,
   "metadata": {},
   "outputs": [
    {
     "name": "stderr",
     "output_type": "stream",
     "text": [
      "WARNING:root:Parameter image_name will be renamed to image_uri in SageMaker Python SDK v2.\n"
     ]
    }
   ],
   "source": [
    "xgb = sagemaker.estimator.Estimator(container, # The location of the container we wish to use\n",
    "                                    role,                                    # What is our current IAM Role\n",
    "                                    train_instance_count=1,                  # How many compute instances\n",
    "                                    train_instance_type='ml.m4.xlarge',      # What kind of compute instances\n",
    "                                    output_path='s3://{}/{}/output'.format(session.default_bucket(), prefix),\n",
    "                                    sagemaker_session=session)\n",
    "\n",
    "# TODO: Set the XGBoost hyperparameters in the xgb object. Don't forget that in this case we have a binary\n",
    "#       label so we should be using the 'binary:logistic' objective.\n",
    "\n",
    "# Solution:\n",
    "xgb.set_hyperparameters(max_depth=5,\n",
    "                        eta=0.2,\n",
    "                        gamma=4,\n",
    "                        min_child_weight=6,\n",
    "                        subsample=0.8,\n",
    "                        silent=0,\n",
    "                        objective='binary:logistic',\n",
    "                        early_stopping_rounds=10,\n",
    "                        num_round=500)"
   ]
  },
  {
   "cell_type": "code",
   "execution_count": 76,
   "metadata": {},
   "outputs": [
    {
     "name": "stderr",
     "output_type": "stream",
     "text": [
      "WARNING:sagemaker:'s3_input' class will be renamed to 'TrainingInput' in SageMaker Python SDK v2.\n",
      "WARNING:sagemaker:'s3_input' class will be renamed to 'TrainingInput' in SageMaker Python SDK v2.\n"
     ]
    }
   ],
   "source": [
    "s3_input_train = sagemaker.s3_input(s3_data=train_location, content_type='csv')\n",
    "s3_input_validation = sagemaker.s3_input(s3_data=val_location, content_type='csv')"
   ]
  },
  {
   "cell_type": "code",
   "execution_count": 77,
   "metadata": {},
   "outputs": [
    {
     "name": "stdout",
     "output_type": "stream",
     "text": [
      "2020-07-24 01:43:26 Starting - Starting the training job...\n",
      "2020-07-24 01:43:29 Starting - Launching requested ML instances......\n",
      "2020-07-24 01:44:44 Starting - Preparing the instances for training......\n",
      "2020-07-24 01:45:40 Downloading - Downloading input data...\n",
      "2020-07-24 01:46:14 Training - Downloading the training image..\u001b[34mArguments: train\u001b[0m\n",
      "\u001b[34m[2020-07-24:01:46:39:INFO] Running standalone xgboost training.\u001b[0m\n",
      "\u001b[34m[2020-07-24:01:46:39:INFO] File size need to be processed in the node: 64.15mb. Available memory size in the node: 8508.95mb\u001b[0m\n",
      "\u001b[34m[2020-07-24:01:46:39:INFO] Determined delimiter of CSV input is ','\u001b[0m\n",
      "\u001b[34m[01:46:39] S3DistributionType set as FullyReplicated\u001b[0m\n",
      "\u001b[34m[01:46:40] 262998x37 matrix with 9730926 entries loaded from /opt/ml/input/data/train?format=csv&label_column=0&delimiter=,\u001b[0m\n",
      "\u001b[34m[2020-07-24:01:46:40:INFO] Determined delimiter of CSV input is ','\u001b[0m\n",
      "\u001b[34m[01:46:40] S3DistributionType set as FullyReplicated\u001b[0m\n",
      "\u001b[34m[01:46:40] 65750x37 matrix with 2432750 entries loaded from /opt/ml/input/data/validation?format=csv&label_column=0&delimiter=,\u001b[0m\n",
      "\u001b[34m[01:46:40] src/tree/updater_prune.cc:74: tree pruning end, 1 roots, 26 extra nodes, 0 pruned nodes, max_depth=5\u001b[0m\n",
      "\u001b[34m[0]#011train-error:0.004346#011validation-error:0.004395\u001b[0m\n",
      "\u001b[34mMultiple eval metrics have been passed: 'validation-error' will be used for early stopping.\n",
      "\u001b[0m\n",
      "\u001b[34mWill train until validation-error hasn't improved in 10 rounds.\u001b[0m\n",
      "\u001b[34m[01:46:40] src/tree/updater_prune.cc:74: tree pruning end, 1 roots, 20 extra nodes, 0 pruned nodes, max_depth=5\u001b[0m\n",
      "\u001b[34m[1]#011train-error:0.003422#011validation-error:0.003437\u001b[0m\n",
      "\u001b[34m[01:46:41] src/tree/updater_prune.cc:74: tree pruning end, 1 roots, 26 extra nodes, 0 pruned nodes, max_depth=5\u001b[0m\n",
      "\u001b[34m[2]#011train-error:0.003042#011validation-error:0.003118\u001b[0m\n",
      "\u001b[34m[01:46:41] src/tree/updater_prune.cc:74: tree pruning end, 1 roots, 18 extra nodes, 4 pruned nodes, max_depth=5\u001b[0m\n",
      "\u001b[34m[3]#011train-error:0.002551#011validation-error:0.002677\u001b[0m\n",
      "\u001b[34m[01:46:41] src/tree/updater_prune.cc:74: tree pruning end, 1 roots, 16 extra nodes, 8 pruned nodes, max_depth=5\u001b[0m\n",
      "\u001b[34m[4]#011train-error:0.002164#011validation-error:0.002373\u001b[0m\n",
      "\u001b[34m[01:46:41] src/tree/updater_prune.cc:74: tree pruning end, 1 roots, 20 extra nodes, 0 pruned nodes, max_depth=5\u001b[0m\n",
      "\u001b[34m[5]#011train-error:0.002072#011validation-error:0.002281\u001b[0m\n",
      "\u001b[34m[01:46:42] src/tree/updater_prune.cc:74: tree pruning end, 1 roots, 24 extra nodes, 2 pruned nodes, max_depth=5\u001b[0m\n",
      "\u001b[34m[6]#011train-error:0.001992#011validation-error:0.002175\u001b[0m\n",
      "\u001b[34m[01:46:42] src/tree/updater_prune.cc:74: tree pruning end, 1 roots, 24 extra nodes, 4 pruned nodes, max_depth=5\u001b[0m\n",
      "\u001b[34m[7]#011train-error:0.001989#011validation-error:0.002175\u001b[0m\n",
      "\u001b[34m[01:46:42] src/tree/updater_prune.cc:74: tree pruning end, 1 roots, 24 extra nodes, 2 pruned nodes, max_depth=5\u001b[0m\n",
      "\u001b[34m[8]#011train-error:0.00192#011validation-error:0.00216\u001b[0m\n",
      "\u001b[34m[01:46:42] src/tree/updater_prune.cc:74: tree pruning end, 1 roots, 24 extra nodes, 2 pruned nodes, max_depth=5\u001b[0m\n",
      "\u001b[34m[9]#011train-error:0.00184#011validation-error:0.002099\u001b[0m\n",
      "\u001b[34m[01:46:43] src/tree/updater_prune.cc:74: tree pruning end, 1 roots, 18 extra nodes, 4 pruned nodes, max_depth=5\u001b[0m\n",
      "\u001b[34m[10]#011train-error:0.00173#011validation-error:0.002038\u001b[0m\n",
      "\u001b[34m[01:46:43] src/tree/updater_prune.cc:74: tree pruning end, 1 roots, 24 extra nodes, 4 pruned nodes, max_depth=5\u001b[0m\n",
      "\u001b[34m[11]#011train-error:0.001593#011validation-error:0.001886\u001b[0m\n",
      "\u001b[34m[01:46:43] src/tree/updater_prune.cc:74: tree pruning end, 1 roots, 16 extra nodes, 4 pruned nodes, max_depth=5\u001b[0m\n",
      "\u001b[34m[12]#011train-error:0.001525#011validation-error:0.001703\u001b[0m\n",
      "\n",
      "2020-07-24 01:46:39 Training - Training image download completed. Training in progress.\u001b[34m[01:46:44] src/tree/updater_prune.cc:74: tree pruning end, 1 roots, 22 extra nodes, 4 pruned nodes, max_depth=5\u001b[0m\n",
      "\u001b[34m[13]#011train-error:0.001414#011validation-error:0.001703\u001b[0m\n",
      "\u001b[34m[01:46:44] src/tree/updater_prune.cc:74: tree pruning end, 1 roots, 26 extra nodes, 2 pruned nodes, max_depth=5\u001b[0m\n",
      "\u001b[34m[14]#011train-error:0.001281#011validation-error:0.001551\u001b[0m\n",
      "\u001b[34m[01:46:44] src/tree/updater_prune.cc:74: tree pruning end, 1 roots, 22 extra nodes, 0 pruned nodes, max_depth=5\u001b[0m\n",
      "\u001b[34m[15]#011train-error:0.001236#011validation-error:0.00143\u001b[0m\n",
      "\u001b[34m[01:46:44] src/tree/updater_prune.cc:74: tree pruning end, 1 roots, 26 extra nodes, 0 pruned nodes, max_depth=5\u001b[0m\n",
      "\u001b[34m[16]#011train-error:0.001232#011validation-error:0.001475\u001b[0m\n",
      "\u001b[34m[01:46:44] src/tree/updater_prune.cc:74: tree pruning end, 1 roots, 22 extra nodes, 4 pruned nodes, max_depth=5\u001b[0m\n",
      "\u001b[34m[17]#011train-error:0.001167#011validation-error:0.001399\u001b[0m\n",
      "\u001b[34m[01:46:45] src/tree/updater_prune.cc:74: tree pruning end, 1 roots, 20 extra nodes, 0 pruned nodes, max_depth=5\u001b[0m\n",
      "\u001b[34m[18]#011train-error:0.001118#011validation-error:0.001369\u001b[0m\n",
      "\u001b[34m[01:46:45] src/tree/updater_prune.cc:74: tree pruning end, 1 roots, 18 extra nodes, 8 pruned nodes, max_depth=5\u001b[0m\n",
      "\u001b[34m[19]#011train-error:0.001103#011validation-error:0.001354\u001b[0m\n",
      "\u001b[34m[01:46:45] src/tree/updater_prune.cc:74: tree pruning end, 1 roots, 22 extra nodes, 2 pruned nodes, max_depth=5\u001b[0m\n",
      "\u001b[34m[20]#011train-error:0.001095#011validation-error:0.001445\u001b[0m\n",
      "\u001b[34m[01:46:45] src/tree/updater_prune.cc:74: tree pruning end, 1 roots, 24 extra nodes, 2 pruned nodes, max_depth=5\u001b[0m\n",
      "\u001b[34m[21]#011train-error:0.001038#011validation-error:0.001308\u001b[0m\n",
      "\u001b[34m[01:46:46] src/tree/updater_prune.cc:74: tree pruning end, 1 roots, 24 extra nodes, 2 pruned nodes, max_depth=5\u001b[0m\n",
      "\u001b[34m[22]#011train-error:0.00103#011validation-error:0.001262\u001b[0m\n",
      "\u001b[34m[01:46:46] src/tree/updater_prune.cc:74: tree pruning end, 1 roots, 22 extra nodes, 4 pruned nodes, max_depth=5\u001b[0m\n",
      "\u001b[34m[23]#011train-error:0.000985#011validation-error:0.001247\u001b[0m\n",
      "\u001b[34m[01:46:46] src/tree/updater_prune.cc:74: tree pruning end, 1 roots, 20 extra nodes, 2 pruned nodes, max_depth=5\u001b[0m\n",
      "\u001b[34m[24]#011train-error:0.000977#011validation-error:0.001293\u001b[0m\n",
      "\u001b[34m[01:46:46] src/tree/updater_prune.cc:74: tree pruning end, 1 roots, 16 extra nodes, 4 pruned nodes, max_depth=5\u001b[0m\n",
      "\u001b[34m[25]#011train-error:0.000939#011validation-error:0.001262\u001b[0m\n",
      "\u001b[34m[01:46:46] src/tree/updater_prune.cc:74: tree pruning end, 1 roots, 20 extra nodes, 4 pruned nodes, max_depth=5\u001b[0m\n",
      "\u001b[34m[26]#011train-error:0.000852#011validation-error:0.001156\u001b[0m\n",
      "\u001b[34m[01:46:47] src/tree/updater_prune.cc:74: tree pruning end, 1 roots, 18 extra nodes, 4 pruned nodes, max_depth=5\u001b[0m\n",
      "\u001b[34m[27]#011train-error:0.000829#011validation-error:0.001065\u001b[0m\n",
      "\u001b[34m[01:46:47] src/tree/updater_prune.cc:74: tree pruning end, 1 roots, 26 extra nodes, 2 pruned nodes, max_depth=5\u001b[0m\n",
      "\u001b[34m[28]#011train-error:0.000802#011validation-error:0.001019\u001b[0m\n",
      "\u001b[34m[01:46:47] src/tree/updater_prune.cc:74: tree pruning end, 1 roots, 14 extra nodes, 0 pruned nodes, max_depth=5\u001b[0m\n",
      "\u001b[34m[29]#011train-error:0.000779#011validation-error:0.001019\u001b[0m\n",
      "\u001b[34m[01:46:47] src/tree/updater_prune.cc:74: tree pruning end, 1 roots, 26 extra nodes, 2 pruned nodes, max_depth=5\u001b[0m\n",
      "\u001b[34m[30]#011train-error:0.000757#011validation-error:0.001019\u001b[0m\n",
      "\u001b[34m[01:46:47] src/tree/updater_prune.cc:74: tree pruning end, 1 roots, 22 extra nodes, 2 pruned nodes, max_depth=5\u001b[0m\n",
      "\u001b[34m[31]#011train-error:0.000677#011validation-error:0.000897\u001b[0m\n",
      "\u001b[34m[01:46:48] src/tree/updater_prune.cc:74: tree pruning end, 1 roots, 28 extra nodes, 8 pruned nodes, max_depth=5\u001b[0m\n",
      "\u001b[34m[32]#011train-error:0.00065#011validation-error:0.000897\u001b[0m\n",
      "\u001b[34m[01:46:48] src/tree/updater_prune.cc:74: tree pruning end, 1 roots, 20 extra nodes, 12 pruned nodes, max_depth=5\u001b[0m\n",
      "\u001b[34m[33]#011train-error:0.000616#011validation-error:0.000882\u001b[0m\n",
      "\u001b[34m[01:46:48] src/tree/updater_prune.cc:74: tree pruning end, 1 roots, 18 extra nodes, 2 pruned nodes, max_depth=5\u001b[0m\n",
      "\u001b[34m[34]#011train-error:0.00062#011validation-error:0.000897\u001b[0m\n",
      "\u001b[34m[01:46:48] src/tree/updater_prune.cc:74: tree pruning end, 1 roots, 14 extra nodes, 12 pruned nodes, max_depth=5\u001b[0m\n",
      "\u001b[34m[35]#011train-error:0.000597#011validation-error:0.000837\u001b[0m\n",
      "\u001b[34m[01:46:49] src/tree/updater_prune.cc:74: tree pruning end, 1 roots, 22 extra nodes, 2 pruned nodes, max_depth=5\u001b[0m\n",
      "\u001b[34m[36]#011train-error:0.000548#011validation-error:0.00076\u001b[0m\n",
      "\u001b[34m[01:46:49] src/tree/updater_prune.cc:74: tree pruning end, 1 roots, 28 extra nodes, 2 pruned nodes, max_depth=5\u001b[0m\n",
      "\u001b[34m[37]#011train-error:0.000548#011validation-error:0.000791\u001b[0m\n",
      "\u001b[34m[01:46:49] src/tree/updater_prune.cc:74: tree pruning end, 1 roots, 12 extra nodes, 8 pruned nodes, max_depth=5\u001b[0m\n",
      "\u001b[34m[38]#011train-error:0.000517#011validation-error:0.0007\u001b[0m\n",
      "\u001b[34m[01:46:49] src/tree/updater_prune.cc:74: tree pruning end, 1 roots, 18 extra nodes, 8 pruned nodes, max_depth=5\u001b[0m\n",
      "\u001b[34m[39]#011train-error:0.000471#011validation-error:0.000639\u001b[0m\n",
      "\u001b[34m[01:46:50] src/tree/updater_prune.cc:74: tree pruning end, 1 roots, 10 extra nodes, 4 pruned nodes, max_depth=5\u001b[0m\n",
      "\u001b[34m[40]#011train-error:0.000452#011validation-error:0.000548\u001b[0m\n",
      "\u001b[34m[01:46:50] src/tree/updater_prune.cc:74: tree pruning end, 1 roots, 20 extra nodes, 4 pruned nodes, max_depth=5\u001b[0m\n",
      "\u001b[34m[41]#011train-error:0.000433#011validation-error:0.000548\u001b[0m\n",
      "\u001b[34m[01:46:50] src/tree/updater_prune.cc:74: tree pruning end, 1 roots, 14 extra nodes, 2 pruned nodes, max_depth=5\u001b[0m\n",
      "\u001b[34m[42]#011train-error:0.00046#011validation-error:0.000548\u001b[0m\n",
      "\u001b[34m[01:46:50] src/tree/updater_prune.cc:74: tree pruning end, 1 roots, 16 extra nodes, 12 pruned nodes, max_depth=5\u001b[0m\n",
      "\u001b[34m[43]#011train-error:0.000426#011validation-error:0.000548\u001b[0m\n",
      "\u001b[34m[01:46:50] src/tree/updater_prune.cc:74: tree pruning end, 1 roots, 18 extra nodes, 16 pruned nodes, max_depth=5\u001b[0m\n",
      "\u001b[34m[44]#011train-error:0.000422#011validation-error:0.000532\u001b[0m\n",
      "\u001b[34m[01:46:51] src/tree/updater_prune.cc:74: tree pruning end, 1 roots, 14 extra nodes, 0 pruned nodes, max_depth=5\u001b[0m\n",
      "\u001b[34m[45]#011train-error:0.000395#011validation-error:0.000517\u001b[0m\n",
      "\u001b[34m[01:46:51] src/tree/updater_prune.cc:74: tree pruning end, 1 roots, 12 extra nodes, 0 pruned nodes, max_depth=5\u001b[0m\n",
      "\u001b[34m[46]#011train-error:0.000392#011validation-error:0.000456\u001b[0m\n",
      "\u001b[34m[01:46:51] src/tree/updater_prune.cc:74: tree pruning end, 1 roots, 18 extra nodes, 4 pruned nodes, max_depth=5\u001b[0m\n",
      "\u001b[34m[47]#011train-error:0.00038#011validation-error:0.000441\u001b[0m\n",
      "\u001b[34m[01:46:51] src/tree/updater_prune.cc:74: tree pruning end, 1 roots, 12 extra nodes, 2 pruned nodes, max_depth=5\u001b[0m\n",
      "\u001b[34m[48]#011train-error:0.000376#011validation-error:0.000441\u001b[0m\n",
      "\u001b[34m[01:46:52] src/tree/updater_prune.cc:74: tree pruning end, 1 roots, 14 extra nodes, 14 pruned nodes, max_depth=5\u001b[0m\n",
      "\u001b[34m[49]#011train-error:0.000373#011validation-error:0.000426\u001b[0m\n",
      "\u001b[34m[01:46:52] src/tree/updater_prune.cc:74: tree pruning end, 1 roots, 12 extra nodes, 4 pruned nodes, max_depth=5\u001b[0m\n",
      "\u001b[34m[50]#011train-error:0.000369#011validation-error:0.000441\u001b[0m\n",
      "\u001b[34m[01:46:52] src/tree/updater_prune.cc:74: tree pruning end, 1 roots, 10 extra nodes, 2 pruned nodes, max_depth=5\u001b[0m\n",
      "\u001b[34m[51]#011train-error:0.000373#011validation-error:0.000441\u001b[0m\n",
      "\u001b[34m[01:46:52] src/tree/updater_prune.cc:74: tree pruning end, 1 roots, 10 extra nodes, 2 pruned nodes, max_depth=5\u001b[0m\n",
      "\u001b[34m[52]#011train-error:0.00038#011validation-error:0.000411\u001b[0m\n",
      "\u001b[34m[01:46:52] src/tree/updater_prune.cc:74: tree pruning end, 1 roots, 10 extra nodes, 2 pruned nodes, max_depth=5\u001b[0m\n",
      "\u001b[34m[53]#011train-error:0.000365#011validation-error:0.000411\u001b[0m\n",
      "\u001b[34m[01:46:53] src/tree/updater_prune.cc:74: tree pruning end, 1 roots, 16 extra nodes, 0 pruned nodes, max_depth=5\u001b[0m\n",
      "\u001b[34m[54]#011train-error:0.000361#011validation-error:0.000395\u001b[0m\n",
      "\u001b[34m[01:46:53] src/tree/updater_prune.cc:74: tree pruning end, 1 roots, 20 extra nodes, 6 pruned nodes, max_depth=5\u001b[0m\n",
      "\u001b[34m[55]#011train-error:0.00035#011validation-error:0.00038\u001b[0m\n",
      "\u001b[34m[01:46:53] src/tree/updater_prune.cc:74: tree pruning end, 1 roots, 8 extra nodes, 20 pruned nodes, max_depth=3\u001b[0m\n",
      "\u001b[34m[56]#011train-error:0.000331#011validation-error:0.00038\u001b[0m\n",
      "\u001b[34m[01:46:53] src/tree/updater_prune.cc:74: tree pruning end, 1 roots, 18 extra nodes, 16 pruned nodes, max_depth=5\u001b[0m\n",
      "\u001b[34m[57]#011train-error:0.000312#011validation-error:0.000395\u001b[0m\n",
      "\u001b[34m[01:46:54] src/tree/updater_prune.cc:74: tree pruning end, 1 roots, 12 extra nodes, 8 pruned nodes, max_depth=5\u001b[0m\n",
      "\u001b[34m[58]#011train-error:0.000319#011validation-error:0.000395\u001b[0m\n",
      "\u001b[34m[01:46:54] src/tree/updater_prune.cc:74: tree pruning end, 1 roots, 16 extra nodes, 8 pruned nodes, max_depth=4\u001b[0m\n",
      "\u001b[34m[59]#011train-error:0.000316#011validation-error:0.000411\u001b[0m\n",
      "\u001b[34m[01:46:54] src/tree/updater_prune.cc:74: tree pruning end, 1 roots, 12 extra nodes, 2 pruned nodes, max_depth=5\u001b[0m\n",
      "\u001b[34m[60]#011train-error:0.000297#011validation-error:0.000411\u001b[0m\n",
      "\u001b[34m[01:46:54] src/tree/updater_prune.cc:74: tree pruning end, 1 roots, 12 extra nodes, 8 pruned nodes, max_depth=5\u001b[0m\n",
      "\u001b[34m[61]#011train-error:0.000293#011validation-error:0.000395\u001b[0m\n",
      "\u001b[34m[01:46:54] src/tree/updater_prune.cc:74: tree pruning end, 1 roots, 10 extra nodes, 2 pruned nodes, max_depth=5\u001b[0m\n",
      "\u001b[34m[62]#011train-error:0.000289#011validation-error:0.000395\u001b[0m\n",
      "\u001b[34m[01:46:55] src/tree/updater_prune.cc:74: tree pruning end, 1 roots, 12 extra nodes, 8 pruned nodes, max_depth=4\u001b[0m\n",
      "\u001b[34m[63]#011train-error:0.0003#011validation-error:0.000395\u001b[0m\n",
      "\u001b[34m[01:46:55] src/tree/updater_prune.cc:74: tree pruning end, 1 roots, 10 extra nodes, 14 pruned nodes, max_depth=3\u001b[0m\n",
      "\u001b[34m[64]#011train-error:0.000293#011validation-error:0.000411\u001b[0m\n",
      "\u001b[34m[01:46:55] src/tree/updater_prune.cc:74: tree pruning end, 1 roots, 0 extra nodes, 18 pruned nodes, max_depth=0\u001b[0m\n",
      "\u001b[34m[65]#011train-error:0.000293#011validation-error:0.000411\u001b[0m\n",
      "\u001b[34mStopping. Best iteration:\u001b[0m\n",
      "\u001b[34m[55]#011train-error:0.00035#011validation-error:0.00038\n",
      "\u001b[0m\n",
      "\n",
      "2020-07-24 01:47:07 Uploading - Uploading generated training model\n",
      "2020-07-24 01:47:07 Completed - Training job completed\n",
      "Training seconds: 87\n",
      "Billable seconds: 87\n"
     ]
    }
   ],
   "source": [
    "xgb.fit({'train': s3_input_train, 'validation': s3_input_validation})"
   ]
  },
  {
   "cell_type": "code",
   "execution_count": 78,
   "metadata": {},
   "outputs": [
    {
     "name": "stderr",
     "output_type": "stream",
     "text": [
      "WARNING:sagemaker:Parameter image will be renamed to image_uri in SageMaker Python SDK v2.\n"
     ]
    }
   ],
   "source": [
    "xgb_transformer = xgb.transformer(instance_count = 1, instance_type = 'ml.m4.xlarge')\n"
   ]
  },
  {
   "cell_type": "code",
   "execution_count": null,
   "metadata": {},
   "outputs": [
    {
     "name": "stdout",
     "output_type": "stream",
     "text": [
      "............"
     ]
    }
   ],
   "source": [
    "xgb_transformer.transform(test_location, content_type='text/csv', split_type='Line')\n",
    "xgb_transformer.wait()"
   ]
  },
  {
   "cell_type": "code",
   "execution_count": null,
   "metadata": {},
   "outputs": [],
   "source": [
    "!aws s3 cp --recursive $xgb_transformer.output_path $data_dir\n"
   ]
  },
  {
   "cell_type": "code",
   "execution_count": null,
   "metadata": {},
   "outputs": [],
   "source": [
    "predictions = pd.read_csv(os.path.join('data', 'x_2020.csv.out'), header=None)\n",
    "predictions = [round(num) for num in predictions.squeeze().values]\n",
    "print(predictions)"
   ]
  },
  {
   "cell_type": "code",
   "execution_count": null,
   "metadata": {},
   "outputs": [],
   "source": [
    "from sklearn.metrics import f1_score, precision_score, accuracy_score, recall_score\n",
    "import numpy as np\n",
    "index = total_Y.astype(int) == 0\n",
    "reverse_Y = pd.Series([ int(not bool(i)) for i in total_Y.astype('int')])\n",
    "print(predictions[predictions==0])\n",
    "print(\"F1: \", f1_score(reverse_Y[index], predictions[1:][index]))\n",
    "print(\"acc: \",accuracy_score(reverse_Y[index], predictions[1:][index]))\n",
    "print(\"prec: \", precision_score(reverse_Y[index], predictions[1:][index]))\n",
    "print(\"recall: \", recall_score(reverse_Y[index], predictions[1:][index]))\n"
   ]
  },
  {
   "cell_type": "code",
   "execution_count": null,
   "metadata": {},
   "outputs": [],
   "source": []
  },
  {
   "cell_type": "code",
   "execution_count": 86,
   "metadata": {},
   "outputs": [
    {
     "name": "stderr",
     "output_type": "stream",
     "text": [
      "/home/ec2-user/anaconda3/envs/mxnet_p36/lib/python3.6/site-packages/IPython/core/interactiveshell.py:3063: DtypeWarning: Columns (59,61,62,63,103,105,119,126,128,129,130,132) have mixed types.Specify dtype option on import or set low_memory=False.\n",
      "  interactivity=interactivity, compiler=compiler, result=result)\n"
     ]
    }
   ],
   "source": [
    "df_2020 = pd.read_csv('data/2020.csv',sep=';', encoding='latin2')"
   ]
  },
  {
   "cell_type": "code",
   "execution_count": 7,
   "metadata": {},
   "outputs": [],
   "source": [
    "def categorize_and_fill(df_in):\n",
    "    # feature_list is the list of selected features\n",
    "    df_out_X = df_in[feature_list + ['CLASSI_FIN']]\n",
    "    \n",
    "    \n",
    "    # converting categorical into numeric\n",
    "    df_out_X.loc[:,'SG_UF_NOT'] = df_out_X['SG_UF_NOT'].astype('category').cat.codes\n",
    "        \n",
    "    df_out_X.loc[:,'CS_SEXO'] = df_out_X['CS_SEXO'].astype('category').cat.codes\n",
    "    \n",
    "    # the age in older dataframes has two formats\n",
    "    # one where the value of 'NU_IDADE_N' is the category of if\n",
    "    # as in years, months or days, and the other where this definition\n",
    "    # is in another column, 'TP_IDADE'\n",
    "    \n",
    "    # to tackle that, I did it like this\n",
    "    \n",
    "    df_out_X.loc[pd.notnull(df_out_X['TP_IDADE']) & (df_out_X['TP_IDADE'] != 3), ['NU_IDADE_N']] = 0\n",
    "    df_out_X.loc[(df_out_X['NU_IDADE_N'] > 4000), ['NU_IDADE_N']] = df_out_X[\n",
    "        ((df_out_X['NU_IDADE_N'] > 4000))]['NU_IDADE_N'] % 1000 \n",
    "    df_out_X.loc[df_out_X['NU_IDADE_N'] > 1000, ['NU_IDADE_N']] = 0\n",
    "\n",
    "    # removing the 'TP_IDADE' column, that represents the age kind\n",
    "    df_out_X = df_out_X.drop(labels='TP_IDADE', axis=1)\n",
    "    \n",
    "    # filling the null values with the 'ignored' token\n",
    "    df_out_X = df_out_X.fillna(9)\n",
    "    \n",
    "    # since the classifier will only classify if it's covid or not,\n",
    "    # it's actually a binary classifier, so there are only two classes,\n",
    "    # is covid and is not covid\n",
    "    \n",
    "    return df_out_X\n"
   ]
  },
  {
   "cell_type": "code",
   "execution_count": 80,
   "metadata": {},
   "outputs": [],
   "source": [
    "feature_list = ['SG_UF_NOT',\n",
    "                'CS_SEXO',\n",
    "                'TP_IDADE',\n",
    "                'NU_IDADE_N',\n",
    "                'CS_RACA',\n",
    "                'SURTO_SG',\n",
    "                'NOSOCOMIAL',\n",
    "                'AVE_SUINO',\n",
    "                'FEBRE',\n",
    "                'TOSSE',\n",
    "                'GARGANTA',\n",
    "                'DISPNEIA',\n",
    "                'DESC_RESP',\n",
    "                'SATURACAO',\n",
    "                'DIARREIA',\n",
    "                'VOMITO',\n",
    "                'OUTRO_SIN',\n",
    "                'PUERPERA',\n",
    "                'CARDIOPATI',\n",
    "                'HEMATOLOGI',\n",
    "                'SIND_DOWN',\n",
    "                'HEPATICA',\n",
    "                'ASMA',\n",
    "                'DIABETES',\n",
    "                'NEUROLOGIC',\n",
    "                'PNEUMOPATI',\n",
    "                'RENAL',\n",
    "                'OBESIDADE',\n",
    "                'VACINA',\n",
    "                'ANTIVIRAL',\n",
    "                'TP_ANTIVIR',\n",
    "                'HOSPITAL',\n",
    "                'UTI',\n",
    "                'SUPORT_VEN',\n",
    "                'RAIOX_RES',\n",
    "                'AMOSTRA',\n",
    "                'TP_AMOSTRA',\n",
    "                'EVOLUCAO'\n",
    "               ]"
   ]
  },
  {
   "cell_type": "code",
   "execution_count": 87,
   "metadata": {},
   "outputs": [
    {
     "name": "stderr",
     "output_type": "stream",
     "text": [
      "/home/ec2-user/anaconda3/envs/mxnet_p36/lib/python3.6/site-packages/pandas/core/indexing.py:966: SettingWithCopyWarning: \n",
      "A value is trying to be set on a copy of a slice from a DataFrame.\n",
      "Try using .loc[row_indexer,col_indexer] = value instead\n",
      "\n",
      "See the caveats in the documentation: https://pandas.pydata.org/pandas-docs/stable/user_guide/indexing.html#returning-a-view-versus-a-copy\n",
      "  self.obj[item] = s\n"
     ]
    }
   ],
   "source": [
    "df_2020 = categorize_and_fill(df_2020)"
   ]
  },
  {
   "cell_type": "code",
   "execution_count": 88,
   "metadata": {},
   "outputs": [],
   "source": [
    "\n",
    "df_2020 = df_2020[(df_2020['CLASSI_FIN'] == 4) | (df_2020['CLASSI_FIN'] == 5)]\n",
    "df_2020.loc[df_2020['CLASSI_FIN'] == 4, 'CLASSI_FIN'] = 0\n",
    "df_2020.loc[df_2020['CLASSI_FIN'] == 5, 'CLASSI_FIN'] = 1"
   ]
  },
  {
   "cell_type": "code",
   "execution_count": 90,
   "metadata": {},
   "outputs": [
    {
     "name": "stdout",
     "output_type": "stream",
     "text": [
      "        SG_UF_NOT  CS_SEXO  NU_IDADE_N  CS_RACA  SURTO_SG  NOSOCOMIAL  \\\n",
      "2207           25        0         0.0      1.0       2.0         2.0   \n",
      "3408           25        2        74.0      1.0       2.0         2.0   \n",
      "3449           25        0        49.0      4.0       2.0         2.0   \n",
      "3580            6        0        52.0      4.0       2.0         2.0   \n",
      "3653           17        2         1.0      9.0       2.0         2.0   \n",
      "...           ...      ...         ...      ...       ...         ...   \n",
      "436505         10        2        87.0      4.0       2.0         2.0   \n",
      "436506         15        0        68.0      1.0       9.0         9.0   \n",
      "436507         15        0        71.0      4.0       2.0         2.0   \n",
      "436512          0        0        45.0      4.0       9.0         9.0   \n",
      "436522          1        0        76.0      4.0       1.0         2.0   \n",
      "\n",
      "        AVE_SUINO  FEBRE  TOSSE  GARGANTA  ...  ANTIVIRAL  TP_ANTIVIR  \\\n",
      "2207          2.0    1.0    1.0       2.0  ...        1.0         1.0   \n",
      "3408          2.0    1.0    1.0       2.0  ...        1.0         1.0   \n",
      "3449          2.0    1.0    1.0       2.0  ...        1.0         1.0   \n",
      "3580          9.0    1.0    1.0       2.0  ...        1.0         1.0   \n",
      "3653          2.0    1.0    1.0       2.0  ...        1.0         1.0   \n",
      "...           ...    ...    ...       ...  ...        ...         ...   \n",
      "436505        2.0    2.0    1.0       2.0  ...        2.0         9.0   \n",
      "436506        9.0    1.0    1.0       2.0  ...        9.0         9.0   \n",
      "436507        2.0    2.0    2.0       2.0  ...        2.0         9.0   \n",
      "436512        9.0    2.0    2.0       2.0  ...        9.0         9.0   \n",
      "436522        2.0    1.0    1.0       2.0  ...        2.0         9.0   \n",
      "\n",
      "        HOSPITAL  UTI  SUPORT_VEN  RAIOX_RES  AMOSTRA  TP_AMOSTRA  EVOLUCAO  \\\n",
      "2207         1.0  9.0         2.0        9.0      1.0         1.0       1.0   \n",
      "3408         1.0  1.0         2.0        6.0      1.0         1.0       2.0   \n",
      "3449         1.0  2.0         3.0        2.0      1.0         1.0       1.0   \n",
      "3580         1.0  9.0         2.0        9.0      1.0         1.0       9.0   \n",
      "3653         1.0  2.0         3.0        6.0      1.0         1.0       1.0   \n",
      "...          ...  ...         ...        ...      ...         ...       ...   \n",
      "436505       1.0  2.0         2.0        2.0      1.0         1.0       9.0   \n",
      "436506       1.0  2.0         2.0        2.0      1.0         1.0       2.0   \n",
      "436507       2.0  9.0         9.0        9.0      2.0         9.0       2.0   \n",
      "436512       1.0  2.0         9.0        9.0      1.0         1.0       1.0   \n",
      "436522       1.0  9.0         2.0        6.0      1.0         1.0       9.0   \n",
      "\n",
      "        CLASSI_FIN  \n",
      "2207           1.0  \n",
      "3408           1.0  \n",
      "3449           1.0  \n",
      "3580           1.0  \n",
      "3653           1.0  \n",
      "...            ...  \n",
      "436505         1.0  \n",
      "436506         1.0  \n",
      "436507         1.0  \n",
      "436512         1.0  \n",
      "436522         1.0  \n",
      "\n",
      "[208424 rows x 38 columns]\n"
     ]
    }
   ],
   "source": [
    "print(df_2020[df_2020['CLASSI_FIN'] == 1])"
   ]
  },
  {
   "cell_type": "code",
   "execution_count": 93,
   "metadata": {},
   "outputs": [
    {
     "name": "stdout",
     "output_type": "stream",
     "text": [
      "[[0.61538462 1.         0.24264706 ... 0.         0.         1.        ]\n",
      " [0.69230769 1.         0.57352941 ... 0.125      1.         0.        ]\n",
      " [0.69230769 1.         0.15441176 ... 0.         0.         0.        ]\n",
      " ...\n",
      " [0.96153846 1.         0.53676471 ... 0.         0.         0.        ]\n",
      " [0.96153846 1.         0.26470588 ... 0.         0.         0.        ]\n",
      " [0.23076923 1.         0.02941176 ... 0.         0.         0.        ]]\n"
     ]
    }
   ],
   "source": [
    "from sklearn.model_selection import train_test_split\n",
    "from sklearn.preprocessing import MinMaxScaler\n",
    "from sklearn.utils import shuffle\n",
    "total_X, total_Y = df_2020[[x for x in feature_list if x != 'TP_IDADE']].values, df_2020['CLASSI_FIN'].values\n",
    "total_X, total_Y = shuffle(total_X, total_Y)\n",
    "total_X = MinMaxScaler().fit_transform(total_X)\n",
    "print(total_X)"
   ]
  },
  {
   "cell_type": "code",
   "execution_count": 94,
   "metadata": {},
   "outputs": [],
   "source": [
    "pd.DataFrame(total_X).to_csv('data/x_2020.csv', index=False)"
   ]
  },
  {
   "cell_type": "code",
   "execution_count": 61,
   "metadata": {},
   "outputs": [
    {
     "name": "stdout",
     "output_type": "stream",
     "text": [
      "13023\n"
     ]
    },
    {
     "data": {
      "text/plain": [
       "8894"
      ]
     },
     "execution_count": 61,
     "metadata": {},
     "output_type": "execute_result"
    }
   ],
   "source": [
    "print(len(test_y[test_y==1])) \n",
    "len(test_y[test_y==0])"
   ]
  },
  {
   "cell_type": "code",
   "execution_count": null,
   "metadata": {},
   "outputs": [],
   "source": []
  }
 ],
 "metadata": {
  "kernelspec": {
   "display_name": "conda_mxnet_p36",
   "language": "python",
   "name": "conda_mxnet_p36"
  },
  "language_info": {
   "codemirror_mode": {
    "name": "ipython",
    "version": 3
   },
   "file_extension": ".py",
   "mimetype": "text/x-python",
   "name": "python",
   "nbconvert_exporter": "python",
   "pygments_lexer": "ipython3",
   "version": "3.6.10"
  }
 },
 "nbformat": 4,
 "nbformat_minor": 4
}

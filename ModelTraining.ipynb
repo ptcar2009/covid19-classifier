{
 "cells": [
  {
   "cell_type": "markdown",
   "metadata": {},
   "source": [
    "# Model creation and evaluation\n",
    "The next step was to create a few models, hypertune them and compare them using the F1 metric. The first model will be the benchmark model, which is the XGBoost.\n",
    "\n",
    "To construct the XGBoost, I'll use the SageMaker's XGBoost API."
   ]
  },
  {
   "cell_type": "code",
   "execution_count": 1,
   "metadata": {},
   "outputs": [
    {
     "name": "stderr",
     "output_type": "stream",
     "text": [
      "'get_image_uri' method will be deprecated in favor of 'ImageURIProvider' class in SageMaker Python SDK v2.\n",
      "There is a more up to date SageMaker XGBoost image. To use the newer image, please set 'repo_version'='1.0-1'. For example:\n",
      "\tget_image_uri(region, 'xgboost', '1.0-1').\n"
     ]
    }
   ],
   "source": [
    "import os\n",
    "import sagemaker\n",
    "from sagemaker.amazon.amazon_estimator import get_image_uri\n",
    "from sagemaker import get_execution_role\n",
    "\n",
    "# Our current execution role is require when creating the model as the training\n",
    "# and inference code will need to access the model artifacts.\n",
    "role = get_execution_role()\n",
    "session = sagemaker.Session() # Store the current SageMaker session\n",
    "# S3 prefix (which folder will we use)\n",
    "prefix = 'covid19-classifier'\n",
    "container = get_image_uri(session.boto_region_name, 'xgboost')\n"
   ]
  },
  {
   "cell_type": "markdown",
   "metadata": {},
   "source": [
    "## Loading and saving the test data\n",
    "The data was loaded from the [data processing notebook](./DataExploration.ipynb)'s files, and split into features and labels, so that we could test them."
   ]
  },
  {
   "cell_type": "code",
   "execution_count": 2,
   "metadata": {},
   "outputs": [
    {
     "name": "stdout",
     "output_type": "stream",
     "text": [
      "16298\n"
     ]
    }
   ],
   "source": [
    "import pandas as pd\n",
    "test_df = pd.read_csv('data/test.csv', encoding='latin2', header=None)\n",
    "test_x = test_df.iloc[:, 1:]\n",
    "test_x.to_csv('data/test_x.csv', index=False, header=False)\n",
    "test_y = test_df.iloc[:,0]"
   ]
  },
  {
   "cell_type": "code",
   "execution_count": 13,
   "metadata": {},
   "outputs": [],
   "source": [
    "import numpy as np\n",
    "test_df_2020 = pd.read_csv('data/x_test_2020.csv', encoding='latin2', header=None)\n",
    "test_x_2020 = test_df.iloc[:, 1:]\n",
    "# as the 2020 test data is unreliable, the test data was totally classified as positive,\n",
    "# so that the classification result has any meaning.\n",
    "test_y_2020 = np.ones(len(test_df_2020))"
   ]
  },
  {
   "cell_type": "markdown",
   "metadata": {},
   "source": [
    "## Uploading the data to S3\n",
    "We upload the data to S3 so that it's accessible and easily consumable from the model.\n"
   ]
  },
  {
   "cell_type": "code",
   "execution_count": 3,
   "metadata": {},
   "outputs": [],
   "source": [
    "data_dir = 'data'\n",
    "\n",
    "test_location = session.upload_data(os.path.join(data_dir, 'test_x.csv'), key_prefix=prefix)\n",
    "test_2020_location = session.upload_data(os.path.join(data_dir, 'x_test_2020.csv'), key_prefix=prefix)\n",
    "val_location = session.upload_data(os.path.join(data_dir, 'val.csv'), key_prefix=prefix)\n",
    "train_location = session.upload_data(os.path.join(data_dir, 'train.csv'), key_prefix=prefix)"
   ]
  },
  {
   "cell_type": "markdown",
   "metadata": {},
   "source": [
    "## Creating the estimator\n",
    "The estimator is a XGBoost estimator from the SageMaker SDK, and the hyperparameters were the default for the model."
   ]
  },
  {
   "cell_type": "code",
   "execution_count": 4,
   "metadata": {},
   "outputs": [
    {
     "name": "stderr",
     "output_type": "stream",
     "text": [
      "Parameter image_name will be renamed to image_uri in SageMaker Python SDK v2.\n"
     ]
    }
   ],
   "source": [
    "xgb = sagemaker.estimator.Estimator(container, # The location of the container we wish to use\n",
    "                                    role,                                    # What is our current IAM Role\n",
    "                                    train_instance_count=1,                  # How many compute instances\n",
    "                                    train_instance_type='ml.m4.xlarge',      # What kind of compute instances\n",
    "                                    output_path='s3://{}/{}/output'.format(session.default_bucket(), prefix),\n",
    "                                    sagemaker_session=session)\n",
    "\n",
    "\n",
    "xgb.set_hyperparameters(max_depth=5,\n",
    "                        eta=0.2,\n",
    "                        gamma=4,\n",
    "                        min_child_weight=6,\n",
    "                        subsample=0.8,\n",
    "                        silent=0,\n",
    "                        objective='binary:logistic',\n",
    "                        early_stopping_rounds=10,\n",
    "                        num_round=500)"
   ]
  },
  {
   "cell_type": "code",
   "execution_count": 5,
   "metadata": {},
   "outputs": [
    {
     "name": "stderr",
     "output_type": "stream",
     "text": [
      "'s3_input' class will be renamed to 'TrainingInput' in SageMaker Python SDK v2.\n",
      "'s3_input' class will be renamed to 'TrainingInput' in SageMaker Python SDK v2.\n"
     ]
    }
   ],
   "source": [
    "# generating the s3 input objects for training\n",
    "s3_input_train = sagemaker.s3_input(s3_data=train_location, content_type='csv')\n",
    "s3_input_validation = sagemaker.s3_input(s3_data=val_location, content_type='csv')"
   ]
  },
  {
   "cell_type": "code",
   "execution_count": 6,
   "metadata": {
    "collapsed": true,
    "jupyter": {
     "outputs_hidden": true
    }
   },
   "outputs": [
    {
     "name": "stdout",
     "output_type": "stream",
     "text": [
      "2020-08-01 22:22:12 Starting - Starting the training job...\n",
      "2020-08-01 22:22:15 Starting - Launching requested ML instances.........\n",
      "2020-08-01 22:23:56 Starting - Preparing the instances for training......\n",
      "2020-08-01 22:25:06 Downloading - Downloading input data\n",
      "2020-08-01 22:25:06 Training - Downloading the training image..\u001b[34mArguments: train\u001b[0m\n",
      "\u001b[34m[2020-08-01:22:25:26:INFO] Running standalone xgboost training.\u001b[0m\n",
      "\u001b[34m[2020-08-01:22:25:26:INFO] File size need to be processed in the node: 65.27mb. Available memory size in the node: 8461.55mb\u001b[0m\n",
      "\u001b[34m[2020-08-01:22:25:26:INFO] Determined delimiter of CSV input is ','\u001b[0m\n",
      "\u001b[34m[22:25:26] S3DistributionType set as FullyReplicated\u001b[0m\n",
      "\u001b[34m[22:25:26] 301737x32 matrix with 9655584 entries loaded from /opt/ml/input/data/train?format=csv&label_column=0&delimiter=,\u001b[0m\n",
      "\u001b[34m[2020-08-01:22:25:26:INFO] Determined delimiter of CSV input is ','\u001b[0m\n",
      "\u001b[34m[22:25:26] S3DistributionType set as FullyReplicated\u001b[0m\n",
      "\u001b[34m[22:25:26] 75434x32 matrix with 2413888 entries loaded from /opt/ml/input/data/validation?format=csv&label_column=0&delimiter=,\u001b[0m\n",
      "\u001b[34m[22:25:27] src/tree/updater_prune.cc:74: tree pruning end, 1 roots, 38 extra nodes, 0 pruned nodes, max_depth=5\u001b[0m\n",
      "\u001b[34m[0]#011train-error:0.013422#011validation-error:0.013455\u001b[0m\n",
      "\u001b[34mMultiple eval metrics have been passed: 'validation-error' will be used for early stopping.\n",
      "\u001b[0m\n",
      "\u001b[34mWill train until validation-error hasn't improved in 10 rounds.\u001b[0m\n",
      "\u001b[34m[22:25:27] src/tree/updater_prune.cc:74: tree pruning end, 1 roots, 38 extra nodes, 0 pruned nodes, max_depth=5\u001b[0m\n",
      "\u001b[34m[1]#011train-error:0.012276#011validation-error:0.01209\u001b[0m\n",
      "\u001b[34m[22:25:27] src/tree/updater_prune.cc:74: tree pruning end, 1 roots, 32 extra nodes, 2 pruned nodes, max_depth=5\u001b[0m\n",
      "\u001b[34m[2]#011train-error:0.011944#011validation-error:0.011904\u001b[0m\n",
      "\u001b[34m[22:25:27] src/tree/updater_prune.cc:74: tree pruning end, 1 roots, 32 extra nodes, 2 pruned nodes, max_depth=5\u001b[0m\n",
      "\u001b[34m[3]#011train-error:0.0115#011validation-error:0.011361\u001b[0m\n",
      "\u001b[34m[22:25:28] src/tree/updater_prune.cc:74: tree pruning end, 1 roots, 36 extra nodes, 2 pruned nodes, max_depth=5\u001b[0m\n",
      "\u001b[34m[4]#011train-error:0.011324#011validation-error:0.011228\u001b[0m\n",
      "\u001b[34m[22:25:28] src/tree/updater_prune.cc:74: tree pruning end, 1 roots, 38 extra nodes, 0 pruned nodes, max_depth=5\u001b[0m\n",
      "\u001b[34m[5]#011train-error:0.011066#011validation-error:0.01095\u001b[0m\n",
      "\u001b[34m[22:25:28] src/tree/updater_prune.cc:74: tree pruning end, 1 roots, 36 extra nodes, 2 pruned nodes, max_depth=5\u001b[0m\n",
      "\u001b[34m[6]#011train-error:0.010221#011validation-error:0.010261\u001b[0m\n",
      "\u001b[34m[22:25:28] src/tree/updater_prune.cc:74: tree pruning end, 1 roots, 36 extra nodes, 0 pruned nodes, max_depth=5\u001b[0m\n",
      "\u001b[34m[7]#011train-error:0.010188#011validation-error:0.010075\u001b[0m\n",
      "\u001b[34m[22:25:28] src/tree/updater_prune.cc:74: tree pruning end, 1 roots, 32 extra nodes, 4 pruned nodes, max_depth=5\u001b[0m\n",
      "\u001b[34m[8]#011train-error:0.010728#011validation-error:0.010725\u001b[0m\n",
      "\u001b[34m[22:25:29] src/tree/updater_prune.cc:74: tree pruning end, 1 roots, 34 extra nodes, 0 pruned nodes, max_depth=5\u001b[0m\n",
      "\u001b[34m[9]#011train-error:0.00395#011validation-error:0.003619\u001b[0m\n",
      "\u001b[34m[22:25:29] src/tree/updater_prune.cc:74: tree pruning end, 1 roots, 28 extra nodes, 6 pruned nodes, max_depth=5\u001b[0m\n",
      "\u001b[34m[10]#011train-error:0.00395#011validation-error:0.003593\u001b[0m\n",
      "\u001b[34m[22:25:29] src/tree/updater_prune.cc:74: tree pruning end, 1 roots, 32 extra nodes, 4 pruned nodes, max_depth=5\u001b[0m\n",
      "\u001b[34m[11]#011train-error:0.003805#011validation-error:0.003354\u001b[0m\n",
      "\u001b[34m[22:25:29] src/tree/updater_prune.cc:74: tree pruning end, 1 roots, 36 extra nodes, 0 pruned nodes, max_depth=5\u001b[0m\n",
      "\u001b[34m[12]#011train-error:0.003785#011validation-error:0.003367\u001b[0m\n",
      "\u001b[34m[22:25:30] src/tree/updater_prune.cc:74: tree pruning end, 1 roots, 32 extra nodes, 2 pruned nodes, max_depth=5\u001b[0m\n",
      "\u001b[34m[13]#011train-error:0.00346#011validation-error:0.003089\u001b[0m\n",
      "\u001b[34m[22:25:30] src/tree/updater_prune.cc:74: tree pruning end, 1 roots, 24 extra nodes, 6 pruned nodes, max_depth=5\u001b[0m\n",
      "\u001b[34m[14]#011train-error:0.003374#011validation-error:0.003062\u001b[0m\n",
      "\u001b[34m[22:25:30] src/tree/updater_prune.cc:74: tree pruning end, 1 roots, 30 extra nodes, 6 pruned nodes, max_depth=5\u001b[0m\n",
      "\u001b[34m[15]#011train-error:0.003125#011validation-error:0.002969\u001b[0m\n",
      "\n",
      "2020-08-01 22:25:25 Training - Training image download completed. Training in progress.\u001b[34m[22:25:30] src/tree/updater_prune.cc:74: tree pruning end, 1 roots, 30 extra nodes, 2 pruned nodes, max_depth=5\u001b[0m\n",
      "\u001b[34m[16]#011train-error:0.003046#011validation-error:0.00281\u001b[0m\n",
      "\u001b[34m[22:25:31] src/tree/updater_prune.cc:74: tree pruning end, 1 roots, 30 extra nodes, 4 pruned nodes, max_depth=5\u001b[0m\n",
      "\u001b[34m[17]#011train-error:0.002969#011validation-error:0.002797\u001b[0m\n",
      "\u001b[34m[22:25:31] src/tree/updater_prune.cc:74: tree pruning end, 1 roots, 28 extra nodes, 2 pruned nodes, max_depth=5\u001b[0m\n",
      "\u001b[34m[18]#011train-error:0.002873#011validation-error:0.002665\u001b[0m\n",
      "\u001b[34m[22:25:31] src/tree/updater_prune.cc:74: tree pruning end, 1 roots, 32 extra nodes, 4 pruned nodes, max_depth=5\u001b[0m\n",
      "\u001b[34m[19]#011train-error:0.00284#011validation-error:0.002638\u001b[0m\n",
      "\u001b[34m[22:25:32] src/tree/updater_prune.cc:74: tree pruning end, 1 roots, 44 extra nodes, 2 pruned nodes, max_depth=5\u001b[0m\n",
      "\u001b[34m[20]#011train-error:0.002804#011validation-error:0.002559\u001b[0m\n",
      "\u001b[34m[22:25:32] src/tree/updater_prune.cc:74: tree pruning end, 1 roots, 34 extra nodes, 6 pruned nodes, max_depth=5\u001b[0m\n",
      "\u001b[34m[21]#011train-error:0.002714#011validation-error:0.002386\u001b[0m\n",
      "\u001b[34m[22:25:32] src/tree/updater_prune.cc:74: tree pruning end, 1 roots, 16 extra nodes, 2 pruned nodes, max_depth=5\u001b[0m\n",
      "\u001b[34m[22]#011train-error:0.002618#011validation-error:0.00228\u001b[0m\n",
      "\u001b[34m[22:25:33] src/tree/updater_prune.cc:74: tree pruning end, 1 roots, 16 extra nodes, 2 pruned nodes, max_depth=5\u001b[0m\n",
      "\u001b[34m[23]#011train-error:0.002525#011validation-error:0.002187\u001b[0m\n",
      "\u001b[34m[22:25:33] src/tree/updater_prune.cc:74: tree pruning end, 1 roots, 34 extra nodes, 4 pruned nodes, max_depth=5\u001b[0m\n",
      "\u001b[34m[24]#011train-error:0.002529#011validation-error:0.002108\u001b[0m\n",
      "\u001b[34m[22:25:33] src/tree/updater_prune.cc:74: tree pruning end, 1 roots, 28 extra nodes, 0 pruned nodes, max_depth=5\u001b[0m\n",
      "\u001b[34m[25]#011train-error:0.002376#011validation-error:0.001949\u001b[0m\n",
      "\u001b[34m[22:25:33] src/tree/updater_prune.cc:74: tree pruning end, 1 roots, 24 extra nodes, 0 pruned nodes, max_depth=5\u001b[0m\n",
      "\u001b[34m[26]#011train-error:0.00231#011validation-error:0.001935\u001b[0m\n",
      "\u001b[34m[22:25:33] src/tree/updater_prune.cc:74: tree pruning end, 1 roots, 24 extra nodes, 2 pruned nodes, max_depth=5\u001b[0m\n",
      "\u001b[34m[27]#011train-error:0.002313#011validation-error:0.001922\u001b[0m\n",
      "\u001b[34m[22:25:34] src/tree/updater_prune.cc:74: tree pruning end, 1 roots, 24 extra nodes, 2 pruned nodes, max_depth=5\u001b[0m\n",
      "\u001b[34m[28]#011train-error:0.002214#011validation-error:0.001856\u001b[0m\n",
      "\u001b[34m[22:25:34] src/tree/updater_prune.cc:74: tree pruning end, 1 roots, 40 extra nodes, 2 pruned nodes, max_depth=5\u001b[0m\n",
      "\u001b[34m[29]#011train-error:0.002214#011validation-error:0.001843\u001b[0m\n",
      "\u001b[34m[22:25:34] src/tree/updater_prune.cc:74: tree pruning end, 1 roots, 20 extra nodes, 4 pruned nodes, max_depth=5\u001b[0m\n",
      "\u001b[34m[30]#011train-error:0.002134#011validation-error:0.00179\u001b[0m\n",
      "\u001b[34m[22:25:34] src/tree/updater_prune.cc:74: tree pruning end, 1 roots, 18 extra nodes, 6 pruned nodes, max_depth=5\u001b[0m\n",
      "\u001b[34m[31]#011train-error:0.002108#011validation-error:0.001684\u001b[0m\n",
      "\u001b[34m[22:25:35] src/tree/updater_prune.cc:74: tree pruning end, 1 roots, 48 extra nodes, 4 pruned nodes, max_depth=5\u001b[0m\n",
      "\u001b[34m[32]#011train-error:0.001995#011validation-error:0.001657\u001b[0m\n",
      "\u001b[34m[22:25:35] src/tree/updater_prune.cc:74: tree pruning end, 1 roots, 18 extra nodes, 4 pruned nodes, max_depth=5\u001b[0m\n",
      "\u001b[34m[33]#011train-error:0.001886#011validation-error:0.001525\u001b[0m\n",
      "\u001b[34m[22:25:35] src/tree/updater_prune.cc:74: tree pruning end, 1 roots, 32 extra nodes, 8 pruned nodes, max_depth=5\u001b[0m\n",
      "\u001b[34m[34]#011train-error:0.001796#011validation-error:0.001445\u001b[0m\n",
      "\u001b[34m[22:25:35] src/tree/updater_prune.cc:74: tree pruning end, 1 roots, 24 extra nodes, 2 pruned nodes, max_depth=5\u001b[0m\n",
      "\u001b[34m[35]#011train-error:0.00172#011validation-error:0.001352\u001b[0m\n",
      "\u001b[34m[22:25:35] src/tree/updater_prune.cc:74: tree pruning end, 1 roots, 20 extra nodes, 12 pruned nodes, max_depth=5\u001b[0m\n",
      "\u001b[34m[36]#011train-error:0.00169#011validation-error:0.001312\u001b[0m\n",
      "\u001b[34m[22:25:36] src/tree/updater_prune.cc:74: tree pruning end, 1 roots, 18 extra nodes, 12 pruned nodes, max_depth=5\u001b[0m\n",
      "\u001b[34m[37]#011train-error:0.001627#011validation-error:0.001286\u001b[0m\n",
      "\u001b[34m[22:25:36] src/tree/updater_prune.cc:74: tree pruning end, 1 roots, 32 extra nodes, 8 pruned nodes, max_depth=5\u001b[0m\n",
      "\u001b[34m[38]#011train-error:0.001587#011validation-error:0.001246\u001b[0m\n",
      "\u001b[34m[22:25:36] src/tree/updater_prune.cc:74: tree pruning end, 1 roots, 34 extra nodes, 10 pruned nodes, max_depth=5\u001b[0m\n",
      "\u001b[34m[39]#011train-error:0.001538#011validation-error:0.001246\u001b[0m\n",
      "\u001b[34m[22:25:36] src/tree/updater_prune.cc:74: tree pruning end, 1 roots, 38 extra nodes, 4 pruned nodes, max_depth=5\u001b[0m\n",
      "\u001b[34m[40]#011train-error:0.001498#011validation-error:0.00118\u001b[0m\n",
      "\u001b[34m[22:25:37] src/tree/updater_prune.cc:74: tree pruning end, 1 roots, 24 extra nodes, 12 pruned nodes, max_depth=5\u001b[0m\n",
      "\u001b[34m[41]#011train-error:0.001448#011validation-error:0.001193\u001b[0m\n",
      "\u001b[34m[22:25:37] src/tree/updater_prune.cc:74: tree pruning end, 1 roots, 20 extra nodes, 6 pruned nodes, max_depth=5\u001b[0m\n",
      "\u001b[34m[42]#011train-error:0.001422#011validation-error:0.00118\u001b[0m\n",
      "\u001b[34m[22:25:37] src/tree/updater_prune.cc:74: tree pruning end, 1 roots, 34 extra nodes, 12 pruned nodes, max_depth=5\u001b[0m\n",
      "\u001b[34m[43]#011train-error:0.001342#011validation-error:0.00118\u001b[0m\n",
      "\u001b[34m[22:25:37] src/tree/updater_prune.cc:74: tree pruning end, 1 roots, 30 extra nodes, 20 pruned nodes, max_depth=5\u001b[0m\n",
      "\u001b[34m[44]#011train-error:0.001306#011validation-error:0.001153\u001b[0m\n",
      "\u001b[34m[22:25:38] src/tree/updater_prune.cc:74: tree pruning end, 1 roots, 26 extra nodes, 10 pruned nodes, max_depth=5\u001b[0m\n",
      "\u001b[34m[45]#011train-error:0.001289#011validation-error:0.001114\u001b[0m\n",
      "\u001b[34m[22:25:38] src/tree/updater_prune.cc:74: tree pruning end, 1 roots, 12 extra nodes, 0 pruned nodes, max_depth=5\u001b[0m\n",
      "\u001b[34m[46]#011train-error:0.001266#011validation-error:0.001127\u001b[0m\n",
      "\u001b[34m[22:25:38] src/tree/updater_prune.cc:74: tree pruning end, 1 roots, 28 extra nodes, 14 pruned nodes, max_depth=5\u001b[0m\n",
      "\u001b[34m[47]#011train-error:0.001243#011validation-error:0.001074\u001b[0m\n",
      "\u001b[34m[22:25:38] src/tree/updater_prune.cc:74: tree pruning end, 1 roots, 36 extra nodes, 12 pruned nodes, max_depth=5\u001b[0m\n",
      "\u001b[34m[48]#011train-error:0.001226#011validation-error:0.001034\u001b[0m\n",
      "\u001b[34m[22:25:38] src/tree/updater_prune.cc:74: tree pruning end, 1 roots, 20 extra nodes, 4 pruned nodes, max_depth=5\u001b[0m\n",
      "\u001b[34m[49]#011train-error:0.0012#011validation-error:0.001074\u001b[0m\n",
      "\u001b[34m[22:25:39] src/tree/updater_prune.cc:74: tree pruning end, 1 roots, 10 extra nodes, 2 pruned nodes, max_depth=5\u001b[0m\n",
      "\u001b[34m[50]#011train-error:0.00122#011validation-error:0.001047\u001b[0m\n",
      "\u001b[34m[22:25:39] src/tree/updater_prune.cc:74: tree pruning end, 1 roots, 30 extra nodes, 16 pruned nodes, max_depth=5\u001b[0m\n",
      "\u001b[34m[51]#011train-error:0.00116#011validation-error:0.000994\u001b[0m\n",
      "\u001b[34m[22:25:39] src/tree/updater_prune.cc:74: tree pruning end, 1 roots, 12 extra nodes, 8 pruned nodes, max_depth=5\u001b[0m\n",
      "\u001b[34m[52]#011train-error:0.001137#011validation-error:0.000981\u001b[0m\n",
      "\u001b[34m[22:25:39] src/tree/updater_prune.cc:74: tree pruning end, 1 roots, 32 extra nodes, 12 pruned nodes, max_depth=5\u001b[0m\n",
      "\u001b[34m[53]#011train-error:0.001117#011validation-error:0.000981\u001b[0m\n",
      "\u001b[34m[22:25:40] src/tree/updater_prune.cc:74: tree pruning end, 1 roots, 20 extra nodes, 18 pruned nodes, max_depth=5\u001b[0m\n",
      "\u001b[34m[54]#011train-error:0.0011#011validation-error:0.000928\u001b[0m\n",
      "\u001b[34m[22:25:40] src/tree/updater_prune.cc:74: tree pruning end, 1 roots, 10 extra nodes, 6 pruned nodes, max_depth=5\u001b[0m\n",
      "\u001b[34m[55]#011train-error:0.0011#011validation-error:0.000941\u001b[0m\n",
      "\u001b[34m[22:25:40] src/tree/updater_prune.cc:74: tree pruning end, 1 roots, 34 extra nodes, 12 pruned nodes, max_depth=5\u001b[0m\n",
      "\u001b[34m[56]#011train-error:0.001074#011validation-error:0.000941\u001b[0m\n",
      "\u001b[34m[22:25:40] src/tree/updater_prune.cc:74: tree pruning end, 1 roots, 26 extra nodes, 10 pruned nodes, max_depth=5\u001b[0m\n",
      "\u001b[34m[57]#011train-error:0.00107#011validation-error:0.000915\u001b[0m\n",
      "\u001b[34m[22:25:40] src/tree/updater_prune.cc:74: tree pruning end, 1 roots, 26 extra nodes, 14 pruned nodes, max_depth=5\u001b[0m\n",
      "\u001b[34m[58]#011train-error:0.001054#011validation-error:0.000901\u001b[0m\n",
      "\u001b[34m[22:25:41] src/tree/updater_prune.cc:74: tree pruning end, 1 roots, 10 extra nodes, 0 pruned nodes, max_depth=5\u001b[0m\n",
      "\u001b[34m[59]#011train-error:0.001051#011validation-error:0.000901\u001b[0m\n",
      "\u001b[34m[22:25:41] src/tree/updater_prune.cc:74: tree pruning end, 1 roots, 20 extra nodes, 18 pruned nodes, max_depth=5\u001b[0m\n",
      "\u001b[34m[60]#011train-error:0.001044#011validation-error:0.000915\u001b[0m\n",
      "\u001b[34m[22:25:41] src/tree/updater_prune.cc:74: tree pruning end, 1 roots, 10 extra nodes, 2 pruned nodes, max_depth=5\u001b[0m\n",
      "\u001b[34m[61]#011train-error:0.001041#011validation-error:0.000915\u001b[0m\n",
      "\u001b[34m[22:25:41] src/tree/updater_prune.cc:74: tree pruning end, 1 roots, 18 extra nodes, 10 pruned nodes, max_depth=5\u001b[0m\n",
      "\u001b[34m[62]#011train-error:0.001024#011validation-error:0.000862\u001b[0m\n",
      "\u001b[34m[22:25:42] src/tree/updater_prune.cc:74: tree pruning end, 1 roots, 26 extra nodes, 8 pruned nodes, max_depth=5\u001b[0m\n",
      "\u001b[34m[63]#011train-error:0.001017#011validation-error:0.000875\u001b[0m\n",
      "\u001b[34m[22:25:42] src/tree/updater_prune.cc:74: tree pruning end, 1 roots, 12 extra nodes, 6 pruned nodes, max_depth=5\u001b[0m\n",
      "\u001b[34m[64]#011train-error:0.001011#011validation-error:0.000862\u001b[0m\n",
      "\u001b[34m[22:25:42] src/tree/updater_prune.cc:74: tree pruning end, 1 roots, 20 extra nodes, 16 pruned nodes, max_depth=5\u001b[0m\n",
      "\u001b[34m[65]#011train-error:0.001011#011validation-error:0.000862\u001b[0m\n",
      "\u001b[34m[22:25:42] src/tree/updater_prune.cc:74: tree pruning end, 1 roots, 22 extra nodes, 6 pruned nodes, max_depth=5\u001b[0m\n",
      "\u001b[34m[66]#011train-error:0.000991#011validation-error:0.000888\u001b[0m\n",
      "\u001b[34m[22:25:43] src/tree/updater_prune.cc:74: tree pruning end, 1 roots, 30 extra nodes, 14 pruned nodes, max_depth=5\u001b[0m\n",
      "\u001b[34m[67]#011train-error:0.000978#011validation-error:0.000875\u001b[0m\n",
      "\u001b[34m[22:25:43] src/tree/updater_prune.cc:74: tree pruning end, 1 roots, 12 extra nodes, 8 pruned nodes, max_depth=5\u001b[0m\n",
      "\u001b[34m[68]#011train-error:0.000958#011validation-error:0.000848\u001b[0m\n",
      "\u001b[34m[22:25:43] src/tree/updater_prune.cc:74: tree pruning end, 1 roots, 18 extra nodes, 18 pruned nodes, max_depth=5\u001b[0m\n",
      "\u001b[34m[69]#011train-error:0.000945#011validation-error:0.000901\u001b[0m\n",
      "\u001b[34m[22:25:43] src/tree/updater_prune.cc:74: tree pruning end, 1 roots, 10 extra nodes, 6 pruned nodes, max_depth=5\u001b[0m\n",
      "\u001b[34m[70]#011train-error:0.000948#011validation-error:0.000901\u001b[0m\n",
      "\u001b[34m[22:25:43] src/tree/updater_prune.cc:74: tree pruning end, 1 roots, 16 extra nodes, 2 pruned nodes, max_depth=5\u001b[0m\n",
      "\u001b[34m[71]#011train-error:0.000918#011validation-error:0.000835\u001b[0m\n",
      "\u001b[34m[22:25:44] src/tree/updater_prune.cc:74: tree pruning end, 1 roots, 10 extra nodes, 24 pruned nodes, max_depth=4\u001b[0m\n",
      "\u001b[34m[72]#011train-error:0.000915#011validation-error:0.000835\u001b[0m\n",
      "\u001b[34m[22:25:44] src/tree/updater_prune.cc:74: tree pruning end, 1 roots, 6 extra nodes, 6 pruned nodes, max_depth=3\u001b[0m\n",
      "\u001b[34m[73]#011train-error:0.000908#011validation-error:0.000848\u001b[0m\n",
      "\u001b[34m[22:25:44] src/tree/updater_prune.cc:74: tree pruning end, 1 roots, 20 extra nodes, 16 pruned nodes, max_depth=5\u001b[0m\n",
      "\u001b[34m[74]#011train-error:0.000911#011validation-error:0.000795\u001b[0m\n",
      "\u001b[34m[22:25:44] src/tree/updater_prune.cc:74: tree pruning end, 1 roots, 14 extra nodes, 30 pruned nodes, max_depth=4\u001b[0m\n",
      "\u001b[34m[75]#011train-error:0.000911#011validation-error:0.000822\u001b[0m\n",
      "\u001b[34m[22:25:45] src/tree/updater_prune.cc:74: tree pruning end, 1 roots, 16 extra nodes, 12 pruned nodes, max_depth=5\u001b[0m\n",
      "\u001b[34m[76]#011train-error:0.000905#011validation-error:0.000782\u001b[0m\n",
      "\u001b[34m[22:25:45] src/tree/updater_prune.cc:74: tree pruning end, 1 roots, 10 extra nodes, 20 pruned nodes, max_depth=5\u001b[0m\n",
      "\u001b[34m[77]#011train-error:0.000895#011validation-error:0.000769\u001b[0m\n",
      "\u001b[34m[22:25:45] src/tree/updater_prune.cc:74: tree pruning end, 1 roots, 16 extra nodes, 20 pruned nodes, max_depth=5\u001b[0m\n",
      "\u001b[34m[78]#011train-error:0.000898#011validation-error:0.000782\u001b[0m\n",
      "\u001b[34m[22:25:45] src/tree/updater_prune.cc:74: tree pruning end, 1 roots, 16 extra nodes, 20 pruned nodes, max_depth=4\u001b[0m\n",
      "\u001b[34m[79]#011train-error:0.000888#011validation-error:0.000769\u001b[0m\n",
      "\u001b[34m[22:25:45] src/tree/updater_prune.cc:74: tree pruning end, 1 roots, 26 extra nodes, 16 pruned nodes, max_depth=5\u001b[0m\n",
      "\u001b[34m[80]#011train-error:0.000865#011validation-error:0.000782\u001b[0m\n",
      "\u001b[34m[22:25:46] src/tree/updater_prune.cc:74: tree pruning end, 1 roots, 6 extra nodes, 10 pruned nodes, max_depth=3\u001b[0m\n",
      "\u001b[34m[81]#011train-error:0.000868#011validation-error:0.000782\u001b[0m\n",
      "\u001b[34m[22:25:46] src/tree/updater_prune.cc:74: tree pruning end, 1 roots, 14 extra nodes, 14 pruned nodes, max_depth=4\u001b[0m\n",
      "\u001b[34m[82]#011train-error:0.000868#011validation-error:0.000782\u001b[0m\n",
      "\u001b[34m[22:25:46] src/tree/updater_prune.cc:74: tree pruning end, 1 roots, 22 extra nodes, 10 pruned nodes, max_depth=5\u001b[0m\n",
      "\u001b[34m[83]#011train-error:0.000848#011validation-error:0.000782\u001b[0m\n",
      "\u001b[34m[22:25:46] src/tree/updater_prune.cc:74: tree pruning end, 1 roots, 10 extra nodes, 8 pruned nodes, max_depth=5\u001b[0m\n",
      "\u001b[34m[84]#011train-error:0.000852#011validation-error:0.000782\u001b[0m\n",
      "\u001b[34m[22:25:47] src/tree/updater_prune.cc:74: tree pruning end, 1 roots, 10 extra nodes, 28 pruned nodes, max_depth=4\u001b[0m\n",
      "\u001b[34m[85]#011train-error:0.000848#011validation-error:0.000782\u001b[0m\n",
      "\u001b[34m[22:25:47] src/tree/updater_prune.cc:74: tree pruning end, 1 roots, 24 extra nodes, 14 pruned nodes, max_depth=5\u001b[0m\n",
      "\u001b[34m[86]#011train-error:0.000835#011validation-error:0.000769\u001b[0m\n",
      "\u001b[34m[22:25:47] src/tree/updater_prune.cc:74: tree pruning end, 1 roots, 0 extra nodes, 18 pruned nodes, max_depth=0\u001b[0m\n",
      "\u001b[34m[87]#011train-error:0.000832#011validation-error:0.000769\u001b[0m\n",
      "\u001b[34mStopping. Best iteration:\u001b[0m\n",
      "\u001b[34m[77]#011train-error:0.000895#011validation-error:0.000769\n",
      "\u001b[0m\n",
      "\n",
      "2020-08-01 22:25:58 Uploading - Uploading generated training model\n",
      "2020-08-01 22:25:58 Completed - Training job completed\n",
      "Training seconds: 69\n",
      "Billable seconds: 69\n"
     ]
    }
   ],
   "source": [
    "# training the model\n",
    "xgb.fit({'train': s3_input_train, 'validation': s3_input_validation})"
   ]
  },
  {
   "cell_type": "markdown",
   "metadata": {},
   "source": [
    "## Metric evaluation\n",
    "The metrics used were the [F1 score](https://scikit-learn.org/stable/modules/generated/sklearn.metrics.f1_score.html), accuracy, precision and recall. The script calculated them all using `sklearn`, and pred"
   ]
  },
  {
   "cell_type": "code",
   "execution_count": 7,
   "metadata": {},
   "outputs": [],
   "source": [
    "def test_and_print_metrics(xgb_object, test_location, output_name, gt):\n",
    "    xgb_transformer = xgb_object.transformer(instance_count = 1, instance_type = 'ml.m4.xlarge')    \n",
    "    xgb_transformer.transform(test_location, content_type='text/csv', split_type='Line')\n",
    "    xgb_transformer.wait()\n",
    "    !aws s3 cp --recursive $xgb_transformer.output_path $data_dir\n",
    "    predictions = pd.read_csv(os.path.join('data', '{}.out'.format(output_name)), header=None)\n",
    "    predictions = [round(num) for num in predictions.squeeze().values]\n",
    "    print_metrics(predictions, gt)\n",
    "    "
   ]
  },
  {
   "cell_type": "code",
   "execution_count": 8,
   "metadata": {},
   "outputs": [],
   "source": [
    "def print_metrics(preds, gt):\n",
    "    from sklearn.metrics import f1_score, precision_score, accuracy_score, recall_score\n",
    "    import numpy as np\n",
    "    print(\"F1: \", f1_score(gt, preds))\n",
    "    print(\"acc: \",accuracy_score(gt, preds))\n",
    "    print(\"prec: \", precision_score(gt, preds))\n",
    "    print(\"recall: \", recall_score(gt, preds))"
   ]
  },
  {
   "cell_type": "code",
   "execution_count": 9,
   "metadata": {},
   "outputs": [
    {
     "name": "stderr",
     "output_type": "stream",
     "text": [
      "Parameter image will be renamed to image_uri in SageMaker Python SDK v2.\n"
     ]
    },
    {
     "name": "stdout",
     "output_type": "stream",
     "text": [
      ".....................\u001b[34mArguments: serve\u001b[0m\n",
      "\u001b[34m[2020-08-01 22:29:49 +0000] [1] [INFO] Starting gunicorn 19.7.1\u001b[0m\n",
      "\u001b[34m[2020-08-01 22:29:49 +0000] [1] [INFO] Listening at: http://0.0.0.0:8080 (1)\u001b[0m\n",
      "\u001b[34m[2020-08-01 22:29:49 +0000] [1] [INFO] Using worker: gevent\u001b[0m\n",
      "\u001b[34m[2020-08-01 22:29:49 +0000] [38] [INFO] Booting worker with pid: 38\u001b[0m\n",
      "\u001b[34m[2020-08-01 22:29:49 +0000] [39] [INFO] Booting worker with pid: 39\u001b[0m\n",
      "\u001b[34m[2020-08-01 22:29:49 +0000] [40] [INFO] Booting worker with pid: 40\u001b[0m\n",
      "\u001b[34m[2020-08-01 22:29:49 +0000] [41] [INFO] Booting worker with pid: 41\u001b[0m\n",
      "\u001b[34m[2020-08-01:22:29:49:INFO] Model loaded successfully for worker : 40\u001b[0m\n",
      "\u001b[34m[2020-08-01:22:29:49:INFO] Model loaded successfully for worker : 39\u001b[0m\n",
      "\u001b[34m[2020-08-01:22:29:49:INFO] Model loaded successfully for worker : 38\u001b[0m\n",
      "\u001b[34m[2020-08-01:22:29:49:INFO] Model loaded successfully for worker : 41\u001b[0m\n",
      "\n",
      "\u001b[34m[2020-08-01:22:30:21:INFO] Sniff delimiter as ','\u001b[0m\n",
      "\u001b[34m[2020-08-01:22:30:21:INFO] Determined delimiter of CSV input is ','\u001b[0m\n",
      "\u001b[32m2020-08-01T22:30:21.235:[sagemaker logs]: MaxConcurrentTransforms=4, MaxPayloadInMB=6, BatchStrategy=MULTI_RECORD\u001b[0m\n",
      "download: s3://sagemaker-us-east-1-929173563334/xgboost-2020-08-01-22-26-25-511/test_x.csv.out to data/test_x.csv.out\n",
      "F1:  0.9992641648270787\n",
      "acc:  0.9990455358918274\n",
      "prec:  0.9986517955631817\n",
      "recall:  0.99987728555651\n"
     ]
    }
   ],
   "source": [
    "test_and_print_metrics(xgb, test_location, 'test_x.csv', test_y)"
   ]
  },
  {
   "cell_type": "code",
   "execution_count": 14,
   "metadata": {},
   "outputs": [
    {
     "name": "stderr",
     "output_type": "stream",
     "text": [
      "Parameter image will be renamed to image_uri in SageMaker Python SDK v2.\n",
      "Using already existing model: xgboost-2020-08-01-22-22-12-703\n"
     ]
    },
    {
     "name": "stdout",
     "output_type": "stream",
     "text": [
      "......................\u001b[34mArguments: serve\u001b[0m\n",
      "\u001b[34m[2020-08-01 23:01:57 +0000] [1] [INFO] Starting gunicorn 19.7.1\u001b[0m\n",
      "\u001b[34m[2020-08-01 23:01:57 +0000] [1] [INFO] Listening at: http://0.0.0.0:8080 (1)\u001b[0m\n",
      "\u001b[34m[2020-08-01 23:01:57 +0000] [1] [INFO] Using worker: gevent\u001b[0m\n",
      "\u001b[34m[2020-08-01 23:01:57 +0000] [39] [INFO] Booting worker with pid: 39\u001b[0m\n",
      "\u001b[34m[2020-08-01 23:01:57 +0000] [40] [INFO] Booting worker with pid: 40\u001b[0m\n",
      "\u001b[34m[2020-08-01 23:01:57 +0000] [41] [INFO] Booting worker with pid: 41\u001b[0m\n",
      "\u001b[34m[2020-08-01:23:01:57:INFO] Model loaded successfully for worker : 39\u001b[0m\n",
      "\u001b[34m[2020-08-01:23:01:57:INFO] Model loaded successfully for worker : 40\u001b[0m\n",
      "\u001b[34m[2020-08-01 23:01:57 +0000] [42] [INFO] Booting worker with pid: 42\u001b[0m\n",
      "\u001b[34m[2020-08-01:23:01:57:INFO] Model loaded successfully for worker : 41\u001b[0m\n",
      "\u001b[34m[2020-08-01:23:01:57:INFO] Model loaded successfully for worker : 42\u001b[0m\n",
      "\u001b[32m2020-08-01T23:02:17.565:[sagemaker logs]: MaxConcurrentTransforms=4, MaxPayloadInMB=6, BatchStrategy=MULTI_RECORD\u001b[0m\n",
      "\u001b[34m[2020-08-01:23:02:18:INFO] Sniff delimiter as ','\u001b[0m\n",
      "\u001b[34m[2020-08-01:23:02:18:INFO] Determined delimiter of CSV input is ','\u001b[0m\n",
      "\u001b[34m[2020-08-01:23:02:18:INFO] Sniff delimiter as ','\u001b[0m\n",
      "\u001b[35m[2020-08-01:23:02:18:INFO] Sniff delimiter as ','\u001b[0m\n",
      "\u001b[35m[2020-08-01:23:02:18:INFO] Determined delimiter of CSV input is ','\u001b[0m\n",
      "\u001b[35m[2020-08-01:23:02:18:INFO] Sniff delimiter as ','\u001b[0m\n",
      "\u001b[34m[2020-08-01:23:02:18:INFO] Determined delimiter of CSV input is ','\u001b[0m\n",
      "\u001b[35m[2020-08-01:23:02:18:INFO] Determined delimiter of CSV input is ','\u001b[0m\n",
      "\u001b[34m[2020-08-01:23:02:18:INFO] Sniff delimiter as ','\u001b[0m\n",
      "\u001b[34m[2020-08-01:23:02:18:INFO] Determined delimiter of CSV input is ','\u001b[0m\n",
      "\u001b[34m[2020-08-01:23:02:18:INFO] Sniff delimiter as ','\u001b[0m\n",
      "\u001b[34m[2020-08-01:23:02:18:INFO] Determined delimiter of CSV input is ','\u001b[0m\n",
      "\u001b[35m[2020-08-01:23:02:18:INFO] Sniff delimiter as ','\u001b[0m\n",
      "\u001b[35m[2020-08-01:23:02:18:INFO] Determined delimiter of CSV input is ','\u001b[0m\n",
      "\u001b[35m[2020-08-01:23:02:18:INFO] Sniff delimiter as ','\u001b[0m\n",
      "\u001b[35m[2020-08-01:23:02:18:INFO] Determined delimiter of CSV input is ','\u001b[0m\n",
      "\u001b[34m[2020-08-01:23:02:19:INFO] Sniff delimiter as ','\u001b[0m\n",
      "\u001b[34m[2020-08-01:23:02:19:INFO] Determined delimiter of CSV input is ','\u001b[0m\n",
      "\u001b[35m[2020-08-01:23:02:19:INFO] Sniff delimiter as ','\u001b[0m\n",
      "\u001b[35m[2020-08-01:23:02:19:INFO] Determined delimiter of CSV input is ','\u001b[0m\n",
      "\n",
      "download: s3://sagemaker-us-east-1-929173563334/xgboost-2020-08-01-22-58-34-975/x_test_2020.csv.out to data/x_test_2020.csv.out\n",
      "F1:  0.45086413051108415\n",
      "acc:  0.29104234134080914\n",
      "prec:  1.0\n",
      "recall:  0.29104234134080914\n"
     ]
    }
   ],
   "source": [
    "test_and_print_metrics(xgb, test_2020_location, 'x_test_2020.csv', test_y_2020)"
   ]
  },
  {
   "cell_type": "code",
   "execution_count": null,
   "metadata": {},
   "outputs": [],
   "source": []
  }
 ],
 "metadata": {
  "kernelspec": {
   "display_name": "conda_mxnet_p36",
   "language": "python",
   "name": "conda_mxnet_p36"
  },
  "language_info": {
   "codemirror_mode": {
    "name": "ipython",
    "version": 3
   },
   "file_extension": ".py",
   "mimetype": "text/x-python",
   "name": "python",
   "nbconvert_exporter": "python",
   "pygments_lexer": "ipython3",
   "version": "3.6.10"
  }
 },
 "nbformat": 4,
 "nbformat_minor": 4
}
